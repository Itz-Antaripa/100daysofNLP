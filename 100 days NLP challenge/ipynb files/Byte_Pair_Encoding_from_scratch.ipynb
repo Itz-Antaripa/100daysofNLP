{
  "nbformat": 4,
  "nbformat_minor": 0,
  "metadata": {
    "colab": {
      "name": "Byte_Pair_Encoding_from_scratch.ipynb",
      "provenance": [],
      "collapsed_sections": []
    },
    "kernelspec": {
      "name": "python3",
      "display_name": "Python 3"
    }
  },
  "cells": [
    {
      "cell_type": "markdown",
      "metadata": {
        "id": "_-DQWghWqysP"
      },
      "source": [
        "# Byte Pair Encoding\n",
        "It was originally created as a data compression algorithm.\n",
        "Later it was repurposed for subword tokenization which is a very useful method for handing rare words and to manage Out of Vocabulary (OOV) words.\n",
        "\n",
        "Before jumping on the code, you must read about the Byte Pair Encodin in order to get an idea about it.\n",
        "\n",
        "Steps involved in BPE:\n",
        "\n",
        "\n",
        "*   Spilt the words in corpus into characters after appending end word token '</w>'\n",
        "*   Initialize the vocabulary with unique characters in the corpus\n",
        "*   Compute the frequency of a pair of characters or character sequences in corpus\n",
        "*   Merge the most frequent pair in corpus\n",
        "*   Save the best pair to the vocabulary\n",
        "*   Repeat 3rd to 5th steps for a certain number of iterations\n",
        "\n",
        "First read these articles:\n",
        "* https://www.analyticsvidhya.com/blog/2020/05/what-is-tokenization-nlp/\n",
        "* https://towardsdatascience.com/byte-pair-encoding-the-dark-horse-of-modern-nlp-eb36c7df4f10 (Well curated article on BPE)\n",
        "* https://iq.opengenus.org/byte-pair-encoding/ (Must read for better visualization)\n",
        "*  https://web.stanford.edu/class/cs224n/slides/cs224n-2019-lecture12-subwords.pdf (Page no: 18-24_ --> Byte Pair Encoding)\n",
        "* http://ethen8181.github.io/machine-learning/deep_learning/subword/bpe.html\n",
        "\n",
        "\n"
      ]
    },
    {
      "cell_type": "code",
      "metadata": {
        "id": "iyfu2VywdIXA",
        "colab": {
          "base_uri": "https://localhost:8080/"
        },
        "outputId": "bc401c90-1fb0-4ad9-82e7-0df047213096"
      },
      "source": [
        "# import necessary libraries\n",
        "import re\n",
        "import string\n",
        "from collections import Counter, defaultdict\n",
        "import nltk\n",
        "from nltk.corpus import stopwords\n",
        "from nltk import word_tokenize\n",
        "from nltk.stem import PorterStemmer\n",
        "from nltk.stem import WordNetLemmatizer\n",
        "nltk.download('stopwords')\n",
        "nltk.download('punkt')\n",
        "nltk.download('wordnet')\n",
        "\n",
        "from wordcloud import WordCloud, STOPWORDS, ImageColorGenerator\n",
        "from tqdm import tqdm_notebook\n",
        "from textblob import TextBlob\n",
        "from textblob import Word"
      ],
      "execution_count": 1,
      "outputs": [
        {
          "output_type": "stream",
          "text": [
            "[nltk_data] Downloading package stopwords to /root/nltk_data...\n",
            "[nltk_data]   Unzipping corpora/stopwords.zip.\n",
            "[nltk_data] Downloading package punkt to /root/nltk_data...\n",
            "[nltk_data]   Unzipping tokenizers/punkt.zip.\n",
            "[nltk_data] Downloading package wordnet to /root/nltk_data...\n",
            "[nltk_data]   Unzipping corpora/wordnet.zip.\n"
          ],
          "name": "stdout"
        }
      ]
    },
    {
      "cell_type": "code",
      "metadata": {
        "colab": {
          "base_uri": "https://localhost:8080/",
          "height": 154
        },
        "id": "ndSoNsn43jad",
        "outputId": "f282bfa3-b983-4074-b470-0a851013a46d"
      },
      "source": [
        "# Text corpus\n",
        "corpus = '''Tropical rainforests are tropical, moist forests of semi-deciduous varieties distributed across nine West African countries. Institute for Sea Research conducted a temperature record dating back to 700,000 years ago.[2] Several conservation and development demographic settings are such that the most loss of rain forests has occurred in countries of higher population growth. Lack of dependable data and survey information in some countries has made the account of areas of unbroken forest and/or under land use change and their relation to economic indicators difficult to ascertain. Hence, the amount and rate of deforestation in Africa are less known than other regions of tropics.\n",
        "The term deforestation refers to the complete obstruction of forest canopy cover for means of agriculture, plantations, cattle-ranching, and other non-forest fields. Other forest use changes for example are forest disintegration (changing the spatial continuity and creating a mosaic of forest blocks and other land cover types), and dreadful conditions (selective logging of woody species for profitable purposes that affects the forest subfloor and the biodiversity).[2] The general meaning to the term deforestation is linked not only to the value system but the type of measurement designed to assess it. Thus, the same interpretations of deforestation cause noticeable changes in the estimate of forests cleared.\n",
        "One reason for forest depletion is to grow cash crops. Nine West African countries depend on cash crop exports. Products like gum, copal, rubber, cola nuts, and palm oil provide rather steady income revenue for the West African countries. Land use change spoils entire habitats with the forests. Converting forests into timber is another cause of deforestation. Over decades, the primary forest product was commercial timber. Urbanized countries account for a great percentage of the world's wood consumption, that increased greatly between 1950 and 1980. Simultaneously, preservation measures were reinforced to protect European and American forests.[2] Economic growth and growing environmental protection in industrialized European countries made request for tropical hardwood become strong in West Africa. In the first half of the 1980s, an annual forest loss of 7,200 km2 (2,800 sq mi) was note down along the Gulf of Guinea, a figure equivalent to 4-5 per cent of the total remaining rain forest area.[2] By 1985, 72% of West Africa's rainforests had been transformed into fallow lands and an additional 9% had been opened up by timber exploitation.[2]\n",
        "Tropical timber became a viable choice to European wood following World War II, as trade with East European countries stop and timber noticeably became sparse in western and southern Europe. Despite efforts to promote lesser known timber species use, the market continued to focus on part of the usable timber obtainable. West Africa was prone to selective harvesting practices; while conservationists blamed the timber industry and the farmers for felling trees, others believe rain forest destruction is connected to the problem of fuel wood.[2] The contribution of fuel wood consumption to tree stock decline in Africa is believed to be significant. It is generally believed that firewood provides 75% of the energy used in sub-Sahara Africa.[2] With the high demand, the consumption of wood for fuel exceeds the renewal of forest cover.\n",
        "African Pygmies living in the Dzanga-Sangha Special Reserve\n",
        "The rain forests which remain in West Africa now merely are how they were hardly 30 years ago. In Guinea, Liberia and the Ivory Coast, there is almost no primary forest cover left unscathed; in Ghana the situation is much worse, and nearly all the rain forest are cut down. Guinea-Bissau loses 200 to 350 km2 (77 to 135 sq mi) of forest yearly, Senegal 500 km2 (190 sq mi) of wooded savanna, and Nigeria 6,000,050,000 of both. Liberia exploits 800 km2 (310 sq mi) of forests each year. Extrapolating from present rates of loss, botanist Peter Raven pictures that the majority of the world's moderate and smaller rain forests (such as in Africa) could be ruined in forty years. Tropical Africa is about 18% of the world total covering 20 million km2 (7.7 million sq mi) of land in West and Central Africa.[2] The region has been facing deforestation in various degrees of intensity throughout the recent decades. The actual rate of deforestation varies from one country to another and accurate data does not exist yet. Recent estimates show that the annual pace of deforestation in the region can vary from 150 km2 (58 sq mi) in Gabon to 2,900 km2 (1,100 sq mi) in Cote d'Ivoire. Remaining tropical forest still cover major areas in Central Africa but are abridged by patches in West Africa.\n",
        "The African Timber Organization member countries (ATO) eventually recognized the cooperation between rural people and their forest environment. Customary law gives residents the right to use trees for firewood, fell trees for construction, and collect of forest products and rights for hunting or fishing and grazing or clearing of forests for maintenance agriculture. Other areas are called \"protected forests\", which means that uncontrolled clearings and unauthorized logging are forbidden. After World War II, commercial exploitation increased until no West African forestry department was able of making the law. By comparison with rain forests in other places of the world in 1973, Africa showed the greatest infringement though in total volume means, African timber production accounted just one third compared to that of Asia.[2] The difference was due to the variety of trees in Africa forests and the demand for specific wood types in Europe.\n",
        "Forestry regulations in east Africa were first applied by colonial governments, but they were not strict enough to fill forest exploitation. It wasn't until the 1970s that the inadequate performance of forest regulations was recognized. The Tropical Forestry Action Plan was conceived in 1987 by the World Resources Institute in cooperation with the Food and Agriculture Organization, the United Nations Development Program (UNDP) and the World Bank with hopes of halting tropical forest destruction.[2] In its bid to stress forest conservation and development, the World Bank provided $111,103 million in building countries, especially in Africa, to help in developing long range forest conservation and management programs meant for ending deforestation.'''\n",
        "\n",
        "corpus"
      ],
      "execution_count": 2,
      "outputs": [
        {
          "output_type": "execute_result",
          "data": {
            "application/vnd.google.colaboratory.intrinsic+json": {
              "type": "string"
            },
            "text/plain": [
              "'Tropical rainforests are tropical, moist forests of semi-deciduous varieties distributed across nine West African countries. Institute for Sea Research conducted a temperature record dating back to 700,000 years ago.[2] Several conservation and development demographic settings are such that the most loss of rain forests has occurred in countries of higher population growth. Lack of dependable data and survey information in some countries has made the account of areas of unbroken forest and/or under land use change and their relation to economic indicators difficult to ascertain. Hence, the amount and rate of deforestation in Africa are less known than other regions of tropics.\\nThe term deforestation refers to the complete obstruction of forest canopy cover for means of agriculture, plantations, cattle-ranching, and other non-forest fields. Other forest use changes for example are forest disintegration (changing the spatial continuity and creating a mosaic of forest blocks and other land cover types), and dreadful conditions (selective logging of woody species for profitable purposes that affects the forest subfloor and the biodiversity).[2] The general meaning to the term deforestation is linked not only to the value system but the type of measurement designed to assess it. Thus, the same interpretations of deforestation cause noticeable changes in the estimate of forests cleared.\\nOne reason for forest depletion is to grow cash crops. Nine West African countries depend on cash crop exports. Products like gum, copal, rubber, cola nuts, and palm oil provide rather steady income revenue for the West African countries. Land use change spoils entire habitats with the forests. Converting forests into timber is another cause of deforestation. Over decades, the primary forest product was commercial timber. Urbanized countries account for a great percentage of the world\\'s wood consumption, that increased greatly between 1950 and 1980. Simultaneously, preservation measures were reinforced to protect European and American forests.[2] Economic growth and growing environmental protection in industrialized European countries made request for tropical hardwood become strong in West Africa. In the first half of the 1980s, an annual forest loss of 7,200 km2 (2,800 sq mi) was note down along the Gulf of Guinea, a figure equivalent to 4-5 per cent of the total remaining rain forest area.[2] By 1985, 72% of West Africa\\'s rainforests had been transformed into fallow lands and an additional 9% had been opened up by timber exploitation.[2]\\nTropical timber became a viable choice to European wood following World War II, as trade with East European countries stop and timber noticeably became sparse in western and southern Europe. Despite efforts to promote lesser known timber species use, the market continued to focus on part of the usable timber obtainable. West Africa was prone to selective harvesting practices; while conservationists blamed the timber industry and the farmers for felling trees, others believe rain forest destruction is connected to the problem of fuel wood.[2] The contribution of fuel wood consumption to tree stock decline in Africa is believed to be significant. It is generally believed that firewood provides 75% of the energy used in sub-Sahara Africa.[2] With the high demand, the consumption of wood for fuel exceeds the renewal of forest cover.\\nAfrican Pygmies living in the Dzanga-Sangha Special Reserve\\nThe rain forests which remain in West Africa now merely are how they were hardly 30 years ago. In Guinea, Liberia and the Ivory Coast, there is almost no primary forest cover left unscathed; in Ghana the situation is much worse, and nearly all the rain forest are cut down. Guinea-Bissau loses 200 to 350 km2 (77 to 135 sq mi) of forest yearly, Senegal 500 km2 (190 sq mi) of wooded savanna, and Nigeria 6,000,050,000 of both. Liberia exploits 800 km2 (310 sq mi) of forests each year. Extrapolating from present rates of loss, botanist Peter Raven pictures that the majority of the world\\'s moderate and smaller rain forests (such as in Africa) could be ruined in forty years. Tropical Africa is about 18% of the world total covering 20 million km2 (7.7 million sq mi) of land in West and Central Africa.[2] The region has been facing deforestation in various degrees of intensity throughout the recent decades. The actual rate of deforestation varies from one country to another and accurate data does not exist yet. Recent estimates show that the annual pace of deforestation in the region can vary from 150 km2 (58 sq mi) in Gabon to 2,900 km2 (1,100 sq mi) in Cote d\\'Ivoire. Remaining tropical forest still cover major areas in Central Africa but are abridged by patches in West Africa.\\nThe African Timber Organization member countries (ATO) eventually recognized the cooperation between rural people and their forest environment. Customary law gives residents the right to use trees for firewood, fell trees for construction, and collect of forest products and rights for hunting or fishing and grazing or clearing of forests for maintenance agriculture. Other areas are called \"protected forests\", which means that uncontrolled clearings and unauthorized logging are forbidden. After World War II, commercial exploitation increased until no West African forestry department was able of making the law. By comparison with rain forests in other places of the world in 1973, Africa showed the greatest infringement though in total volume means, African timber production accounted just one third compared to that of Asia.[2] The difference was due to the variety of trees in Africa forests and the demand for specific wood types in Europe.\\nForestry regulations in east Africa were first applied by colonial governments, but they were not strict enough to fill forest exploitation. It wasn\\'t until the 1970s that the inadequate performance of forest regulations was recognized. The Tropical Forestry Action Plan was conceived in 1987 by the World Resources Institute in cooperation with the Food and Agriculture Organization, the United Nations Development Program (UNDP) and the World Bank with hopes of halting tropical forest destruction.[2] In its bid to stress forest conservation and development, the World Bank provided $111,103 million in building countries, especially in Africa, to help in developing long range forest conservation and management programs meant for ending deforestation.'"
            ]
          },
          "metadata": {
            "tags": []
          },
          "execution_count": 2
        }
      ]
    },
    {
      "cell_type": "markdown",
      "metadata": {
        "id": "vc3Q2Drze0d-"
      },
      "source": [
        "## Text preprocessing"
      ]
    },
    {
      "cell_type": "code",
      "metadata": {
        "colab": {
          "base_uri": "https://localhost:8080/",
          "height": 154
        },
        "id": "couvPe3Ye8Oh",
        "outputId": "db3480cd-b003-4bd9-c3f6-4d54e3cf77df"
      },
      "source": [
        "# lower the sentences\n",
        "corpus = \"\".join([word.lower() for word in corpus if word not in string.punctuation])\n",
        "# remove all digits from the text\n",
        "pattern = r'[0-9]'\n",
        "corpus = \"\".join([re.sub(pattern, '', word) for word in corpus])\n",
        "corpus = \"\".join(corpus.split('\\n'))\n",
        "# remove stopwords\n",
        "stop_words = set(stopwords.words('english'))\n",
        "corpus = ' '.join([word for word in corpus.split() if word not in stop_words])\n",
        "corpus"
      ],
      "execution_count": 3,
      "outputs": [
        {
          "output_type": "execute_result",
          "data": {
            "application/vnd.google.colaboratory.intrinsic+json": {
              "type": "string"
            },
            "text/plain": [
              "'tropical rainforests tropical moist forests semideciduous varieties distributed across nine west african countries institute sea research conducted temperature record dating back years ago several conservation development demographic settings loss rain forests occurred countries higher population growth lack dependable data survey information countries made account areas unbroken forest andor land use change relation economic indicators difficult ascertain hence amount rate deforestation africa less known regions tropicsthe term deforestation refers complete obstruction forest canopy cover means agriculture plantations cattleranching nonforest fields forest use changes example forest disintegration changing spatial continuity creating mosaic forest blocks land cover types dreadful conditions selective logging woody species profitable purposes affects forest subfloor biodiversity general meaning term deforestation linked value system type measurement designed assess thus interpretations deforestation cause noticeable changes estimate forests clearedone reason forest depletion grow cash crops nine west african countries depend cash crop exports products like gum copal rubber cola nuts palm oil provide rather steady income revenue west african countries land use change spoils entire habitats forests converting forests timber another cause deforestation decades primary forest product commercial timber urbanized countries account great percentage worlds wood consumption increased greatly simultaneously preservation measures reinforced protect european american forests economic growth growing environmental protection industrialized european countries made request tropical hardwood become strong west africa first half annual forest loss km sq mi note along gulf guinea figure equivalent per cent total remaining rain forest area west africas rainforests transformed fallow lands additional opened timber exploitationtropical timber became viable choice european wood following world war ii trade east european countries stop timber noticeably became sparse western southern europe despite efforts promote lesser known timber species use market continued focus part usable timber obtainable west africa prone selective harvesting practices conservationists blamed timber industry farmers felling trees others believe rain forest destruction connected problem fuel wood contribution fuel wood consumption tree stock decline africa believed significant generally believed firewood provides energy used subsahara africa high demand consumption wood fuel exceeds renewal forest coverafrican pygmies living dzangasangha special reservethe rain forests remain west africa merely hardly years ago guinea liberia ivory coast almost primary forest cover left unscathed ghana situation much worse nearly rain forest cut guineabissau loses km sq mi forest yearly senegal km sq mi wooded savanna nigeria liberia exploits km sq mi forests year extrapolating present rates loss botanist peter raven pictures majority worlds moderate smaller rain forests africa could ruined forty years tropical africa world total covering million km million sq mi land west central africa region facing deforestation various degrees intensity throughout recent decades actual rate deforestation varies one country another accurate data exist yet recent estimates show annual pace deforestation region vary km sq mi gabon km sq mi cote divoire remaining tropical forest still cover major areas central africa abridged patches west africathe african timber organization member countries ato eventually recognized cooperation rural people forest environment customary law gives residents right use trees firewood fell trees construction collect forest products rights hunting fishing grazing clearing forests maintenance agriculture areas called protected forests means uncontrolled clearings unauthorized logging forbidden world war ii commercial exploitation increased west african forestry department able making law comparison rain forests places world africa showed greatest infringement though total volume means african timber production accounted one third compared asia difference due variety trees africa forests demand specific wood types europeforestry regulations east africa first applied colonial governments strict enough fill forest exploitation wasnt inadequate performance forest regulations recognized tropical forestry action plan conceived world resources institute cooperation food agriculture organization united nations development program undp world bank hopes halting tropical forest destruction bid stress forest conservation development world bank provided million building countries especially africa help developing long range forest conservation management programs meant ending deforestation'"
            ]
          },
          "metadata": {
            "tags": []
          },
          "execution_count": 3
        }
      ]
    },
    {
      "cell_type": "code",
      "metadata": {
        "colab": {
          "base_uri": "https://localhost:8080/"
        },
        "id": "CdzVBe-GlJ4X",
        "outputId": "717221a1-1b02-4064-c9d9-7cd4497fb6a1"
      },
      "source": [
        "# word tokens\n",
        "tokens = word_tokenize(corpus)\n",
        "corpus = corpus.split()\n",
        "print(tokens)\n",
        "print(corpus)\n",
        "if(tokens == corpus):\n",
        "  print('True')\n"
      ],
      "execution_count": 4,
      "outputs": [
        {
          "output_type": "stream",
          "text": [
            "['tropical', 'rainforests', 'tropical', 'moist', 'forests', 'semideciduous', 'varieties', 'distributed', 'across', 'nine', 'west', 'african', 'countries', 'institute', 'sea', 'research', 'conducted', 'temperature', 'record', 'dating', 'back', 'years', 'ago', 'several', 'conservation', 'development', 'demographic', 'settings', 'loss', 'rain', 'forests', 'occurred', 'countries', 'higher', 'population', 'growth', 'lack', 'dependable', 'data', 'survey', 'information', 'countries', 'made', 'account', 'areas', 'unbroken', 'forest', 'andor', 'land', 'use', 'change', 'relation', 'economic', 'indicators', 'difficult', 'ascertain', 'hence', 'amount', 'rate', 'deforestation', 'africa', 'less', 'known', 'regions', 'tropicsthe', 'term', 'deforestation', 'refers', 'complete', 'obstruction', 'forest', 'canopy', 'cover', 'means', 'agriculture', 'plantations', 'cattleranching', 'nonforest', 'fields', 'forest', 'use', 'changes', 'example', 'forest', 'disintegration', 'changing', 'spatial', 'continuity', 'creating', 'mosaic', 'forest', 'blocks', 'land', 'cover', 'types', 'dreadful', 'conditions', 'selective', 'logging', 'woody', 'species', 'profitable', 'purposes', 'affects', 'forest', 'subfloor', 'biodiversity', 'general', 'meaning', 'term', 'deforestation', 'linked', 'value', 'system', 'type', 'measurement', 'designed', 'assess', 'thus', 'interpretations', 'deforestation', 'cause', 'noticeable', 'changes', 'estimate', 'forests', 'clearedone', 'reason', 'forest', 'depletion', 'grow', 'cash', 'crops', 'nine', 'west', 'african', 'countries', 'depend', 'cash', 'crop', 'exports', 'products', 'like', 'gum', 'copal', 'rubber', 'cola', 'nuts', 'palm', 'oil', 'provide', 'rather', 'steady', 'income', 'revenue', 'west', 'african', 'countries', 'land', 'use', 'change', 'spoils', 'entire', 'habitats', 'forests', 'converting', 'forests', 'timber', 'another', 'cause', 'deforestation', 'decades', 'primary', 'forest', 'product', 'commercial', 'timber', 'urbanized', 'countries', 'account', 'great', 'percentage', 'worlds', 'wood', 'consumption', 'increased', 'greatly', 'simultaneously', 'preservation', 'measures', 'reinforced', 'protect', 'european', 'american', 'forests', 'economic', 'growth', 'growing', 'environmental', 'protection', 'industrialized', 'european', 'countries', 'made', 'request', 'tropical', 'hardwood', 'become', 'strong', 'west', 'africa', 'first', 'half', 'annual', 'forest', 'loss', 'km', 'sq', 'mi', 'note', 'along', 'gulf', 'guinea', 'figure', 'equivalent', 'per', 'cent', 'total', 'remaining', 'rain', 'forest', 'area', 'west', 'africas', 'rainforests', 'transformed', 'fallow', 'lands', 'additional', 'opened', 'timber', 'exploitationtropical', 'timber', 'became', 'viable', 'choice', 'european', 'wood', 'following', 'world', 'war', 'ii', 'trade', 'east', 'european', 'countries', 'stop', 'timber', 'noticeably', 'became', 'sparse', 'western', 'southern', 'europe', 'despite', 'efforts', 'promote', 'lesser', 'known', 'timber', 'species', 'use', 'market', 'continued', 'focus', 'part', 'usable', 'timber', 'obtainable', 'west', 'africa', 'prone', 'selective', 'harvesting', 'practices', 'conservationists', 'blamed', 'timber', 'industry', 'farmers', 'felling', 'trees', 'others', 'believe', 'rain', 'forest', 'destruction', 'connected', 'problem', 'fuel', 'wood', 'contribution', 'fuel', 'wood', 'consumption', 'tree', 'stock', 'decline', 'africa', 'believed', 'significant', 'generally', 'believed', 'firewood', 'provides', 'energy', 'used', 'subsahara', 'africa', 'high', 'demand', 'consumption', 'wood', 'fuel', 'exceeds', 'renewal', 'forest', 'coverafrican', 'pygmies', 'living', 'dzangasangha', 'special', 'reservethe', 'rain', 'forests', 'remain', 'west', 'africa', 'merely', 'hardly', 'years', 'ago', 'guinea', 'liberia', 'ivory', 'coast', 'almost', 'primary', 'forest', 'cover', 'left', 'unscathed', 'ghana', 'situation', 'much', 'worse', 'nearly', 'rain', 'forest', 'cut', 'guineabissau', 'loses', 'km', 'sq', 'mi', 'forest', 'yearly', 'senegal', 'km', 'sq', 'mi', 'wooded', 'savanna', 'nigeria', 'liberia', 'exploits', 'km', 'sq', 'mi', 'forests', 'year', 'extrapolating', 'present', 'rates', 'loss', 'botanist', 'peter', 'raven', 'pictures', 'majority', 'worlds', 'moderate', 'smaller', 'rain', 'forests', 'africa', 'could', 'ruined', 'forty', 'years', 'tropical', 'africa', 'world', 'total', 'covering', 'million', 'km', 'million', 'sq', 'mi', 'land', 'west', 'central', 'africa', 'region', 'facing', 'deforestation', 'various', 'degrees', 'intensity', 'throughout', 'recent', 'decades', 'actual', 'rate', 'deforestation', 'varies', 'one', 'country', 'another', 'accurate', 'data', 'exist', 'yet', 'recent', 'estimates', 'show', 'annual', 'pace', 'deforestation', 'region', 'vary', 'km', 'sq', 'mi', 'gabon', 'km', 'sq', 'mi', 'cote', 'divoire', 'remaining', 'tropical', 'forest', 'still', 'cover', 'major', 'areas', 'central', 'africa', 'abridged', 'patches', 'west', 'africathe', 'african', 'timber', 'organization', 'member', 'countries', 'ato', 'eventually', 'recognized', 'cooperation', 'rural', 'people', 'forest', 'environment', 'customary', 'law', 'gives', 'residents', 'right', 'use', 'trees', 'firewood', 'fell', 'trees', 'construction', 'collect', 'forest', 'products', 'rights', 'hunting', 'fishing', 'grazing', 'clearing', 'forests', 'maintenance', 'agriculture', 'areas', 'called', 'protected', 'forests', 'means', 'uncontrolled', 'clearings', 'unauthorized', 'logging', 'forbidden', 'world', 'war', 'ii', 'commercial', 'exploitation', 'increased', 'west', 'african', 'forestry', 'department', 'able', 'making', 'law', 'comparison', 'rain', 'forests', 'places', 'world', 'africa', 'showed', 'greatest', 'infringement', 'though', 'total', 'volume', 'means', 'african', 'timber', 'production', 'accounted', 'one', 'third', 'compared', 'asia', 'difference', 'due', 'variety', 'trees', 'africa', 'forests', 'demand', 'specific', 'wood', 'types', 'europeforestry', 'regulations', 'east', 'africa', 'first', 'applied', 'colonial', 'governments', 'strict', 'enough', 'fill', 'forest', 'exploitation', 'wasnt', 'inadequate', 'performance', 'forest', 'regulations', 'recognized', 'tropical', 'forestry', 'action', 'plan', 'conceived', 'world', 'resources', 'institute', 'cooperation', 'food', 'agriculture', 'organization', 'united', 'nations', 'development', 'program', 'undp', 'world', 'bank', 'hopes', 'halting', 'tropical', 'forest', 'destruction', 'bid', 'stress', 'forest', 'conservation', 'development', 'world', 'bank', 'provided', 'million', 'building', 'countries', 'especially', 'africa', 'help', 'developing', 'long', 'range', 'forest', 'conservation', 'management', 'programs', 'meant', 'ending', 'deforestation']\n",
            "['tropical', 'rainforests', 'tropical', 'moist', 'forests', 'semideciduous', 'varieties', 'distributed', 'across', 'nine', 'west', 'african', 'countries', 'institute', 'sea', 'research', 'conducted', 'temperature', 'record', 'dating', 'back', 'years', 'ago', 'several', 'conservation', 'development', 'demographic', 'settings', 'loss', 'rain', 'forests', 'occurred', 'countries', 'higher', 'population', 'growth', 'lack', 'dependable', 'data', 'survey', 'information', 'countries', 'made', 'account', 'areas', 'unbroken', 'forest', 'andor', 'land', 'use', 'change', 'relation', 'economic', 'indicators', 'difficult', 'ascertain', 'hence', 'amount', 'rate', 'deforestation', 'africa', 'less', 'known', 'regions', 'tropicsthe', 'term', 'deforestation', 'refers', 'complete', 'obstruction', 'forest', 'canopy', 'cover', 'means', 'agriculture', 'plantations', 'cattleranching', 'nonforest', 'fields', 'forest', 'use', 'changes', 'example', 'forest', 'disintegration', 'changing', 'spatial', 'continuity', 'creating', 'mosaic', 'forest', 'blocks', 'land', 'cover', 'types', 'dreadful', 'conditions', 'selective', 'logging', 'woody', 'species', 'profitable', 'purposes', 'affects', 'forest', 'subfloor', 'biodiversity', 'general', 'meaning', 'term', 'deforestation', 'linked', 'value', 'system', 'type', 'measurement', 'designed', 'assess', 'thus', 'interpretations', 'deforestation', 'cause', 'noticeable', 'changes', 'estimate', 'forests', 'clearedone', 'reason', 'forest', 'depletion', 'grow', 'cash', 'crops', 'nine', 'west', 'african', 'countries', 'depend', 'cash', 'crop', 'exports', 'products', 'like', 'gum', 'copal', 'rubber', 'cola', 'nuts', 'palm', 'oil', 'provide', 'rather', 'steady', 'income', 'revenue', 'west', 'african', 'countries', 'land', 'use', 'change', 'spoils', 'entire', 'habitats', 'forests', 'converting', 'forests', 'timber', 'another', 'cause', 'deforestation', 'decades', 'primary', 'forest', 'product', 'commercial', 'timber', 'urbanized', 'countries', 'account', 'great', 'percentage', 'worlds', 'wood', 'consumption', 'increased', 'greatly', 'simultaneously', 'preservation', 'measures', 'reinforced', 'protect', 'european', 'american', 'forests', 'economic', 'growth', 'growing', 'environmental', 'protection', 'industrialized', 'european', 'countries', 'made', 'request', 'tropical', 'hardwood', 'become', 'strong', 'west', 'africa', 'first', 'half', 'annual', 'forest', 'loss', 'km', 'sq', 'mi', 'note', 'along', 'gulf', 'guinea', 'figure', 'equivalent', 'per', 'cent', 'total', 'remaining', 'rain', 'forest', 'area', 'west', 'africas', 'rainforests', 'transformed', 'fallow', 'lands', 'additional', 'opened', 'timber', 'exploitationtropical', 'timber', 'became', 'viable', 'choice', 'european', 'wood', 'following', 'world', 'war', 'ii', 'trade', 'east', 'european', 'countries', 'stop', 'timber', 'noticeably', 'became', 'sparse', 'western', 'southern', 'europe', 'despite', 'efforts', 'promote', 'lesser', 'known', 'timber', 'species', 'use', 'market', 'continued', 'focus', 'part', 'usable', 'timber', 'obtainable', 'west', 'africa', 'prone', 'selective', 'harvesting', 'practices', 'conservationists', 'blamed', 'timber', 'industry', 'farmers', 'felling', 'trees', 'others', 'believe', 'rain', 'forest', 'destruction', 'connected', 'problem', 'fuel', 'wood', 'contribution', 'fuel', 'wood', 'consumption', 'tree', 'stock', 'decline', 'africa', 'believed', 'significant', 'generally', 'believed', 'firewood', 'provides', 'energy', 'used', 'subsahara', 'africa', 'high', 'demand', 'consumption', 'wood', 'fuel', 'exceeds', 'renewal', 'forest', 'coverafrican', 'pygmies', 'living', 'dzangasangha', 'special', 'reservethe', 'rain', 'forests', 'remain', 'west', 'africa', 'merely', 'hardly', 'years', 'ago', 'guinea', 'liberia', 'ivory', 'coast', 'almost', 'primary', 'forest', 'cover', 'left', 'unscathed', 'ghana', 'situation', 'much', 'worse', 'nearly', 'rain', 'forest', 'cut', 'guineabissau', 'loses', 'km', 'sq', 'mi', 'forest', 'yearly', 'senegal', 'km', 'sq', 'mi', 'wooded', 'savanna', 'nigeria', 'liberia', 'exploits', 'km', 'sq', 'mi', 'forests', 'year', 'extrapolating', 'present', 'rates', 'loss', 'botanist', 'peter', 'raven', 'pictures', 'majority', 'worlds', 'moderate', 'smaller', 'rain', 'forests', 'africa', 'could', 'ruined', 'forty', 'years', 'tropical', 'africa', 'world', 'total', 'covering', 'million', 'km', 'million', 'sq', 'mi', 'land', 'west', 'central', 'africa', 'region', 'facing', 'deforestation', 'various', 'degrees', 'intensity', 'throughout', 'recent', 'decades', 'actual', 'rate', 'deforestation', 'varies', 'one', 'country', 'another', 'accurate', 'data', 'exist', 'yet', 'recent', 'estimates', 'show', 'annual', 'pace', 'deforestation', 'region', 'vary', 'km', 'sq', 'mi', 'gabon', 'km', 'sq', 'mi', 'cote', 'divoire', 'remaining', 'tropical', 'forest', 'still', 'cover', 'major', 'areas', 'central', 'africa', 'abridged', 'patches', 'west', 'africathe', 'african', 'timber', 'organization', 'member', 'countries', 'ato', 'eventually', 'recognized', 'cooperation', 'rural', 'people', 'forest', 'environment', 'customary', 'law', 'gives', 'residents', 'right', 'use', 'trees', 'firewood', 'fell', 'trees', 'construction', 'collect', 'forest', 'products', 'rights', 'hunting', 'fishing', 'grazing', 'clearing', 'forests', 'maintenance', 'agriculture', 'areas', 'called', 'protected', 'forests', 'means', 'uncontrolled', 'clearings', 'unauthorized', 'logging', 'forbidden', 'world', 'war', 'ii', 'commercial', 'exploitation', 'increased', 'west', 'african', 'forestry', 'department', 'able', 'making', 'law', 'comparison', 'rain', 'forests', 'places', 'world', 'africa', 'showed', 'greatest', 'infringement', 'though', 'total', 'volume', 'means', 'african', 'timber', 'production', 'accounted', 'one', 'third', 'compared', 'asia', 'difference', 'due', 'variety', 'trees', 'africa', 'forests', 'demand', 'specific', 'wood', 'types', 'europeforestry', 'regulations', 'east', 'africa', 'first', 'applied', 'colonial', 'governments', 'strict', 'enough', 'fill', 'forest', 'exploitation', 'wasnt', 'inadequate', 'performance', 'forest', 'regulations', 'recognized', 'tropical', 'forestry', 'action', 'plan', 'conceived', 'world', 'resources', 'institute', 'cooperation', 'food', 'agriculture', 'organization', 'united', 'nations', 'development', 'program', 'undp', 'world', 'bank', 'hopes', 'halting', 'tropical', 'forest', 'destruction', 'bid', 'stress', 'forest', 'conservation', 'development', 'world', 'bank', 'provided', 'million', 'building', 'countries', 'especially', 'africa', 'help', 'developing', 'long', 'range', 'forest', 'conservation', 'management', 'programs', 'meant', 'ending', 'deforestation']\n",
            "True\n"
          ],
          "name": "stdout"
        }
      ]
    },
    {
      "cell_type": "code",
      "metadata": {
        "id": "0jlMuqvzBgAH"
      },
      "source": [
        "# Lemmatization\n",
        "wordnet_lemmatizer = WordNetLemmatizer() \n",
        "corpus = [wordnet_lemmatizer.lemmatize(word) for word in corpus]"
      ],
      "execution_count": 5,
      "outputs": []
    },
    {
      "cell_type": "code",
      "metadata": {
        "colab": {
          "base_uri": "https://localhost:8080/"
        },
        "id": "qp_IjWYjJ5YZ",
        "outputId": "3149e6bb-a7bc-4878-f104-d396dadce563"
      },
      "source": [
        "print(corpus)"
      ],
      "execution_count": 6,
      "outputs": [
        {
          "output_type": "stream",
          "text": [
            "['tropical', 'rainforest', 'tropical', 'moist', 'forest', 'semideciduous', 'variety', 'distributed', 'across', 'nine', 'west', 'african', 'country', 'institute', 'sea', 'research', 'conducted', 'temperature', 'record', 'dating', 'back', 'year', 'ago', 'several', 'conservation', 'development', 'demographic', 'setting', 'loss', 'rain', 'forest', 'occurred', 'country', 'higher', 'population', 'growth', 'lack', 'dependable', 'data', 'survey', 'information', 'country', 'made', 'account', 'area', 'unbroken', 'forest', 'andor', 'land', 'use', 'change', 'relation', 'economic', 'indicator', 'difficult', 'ascertain', 'hence', 'amount', 'rate', 'deforestation', 'africa', 'le', 'known', 'region', 'tropicsthe', 'term', 'deforestation', 'refers', 'complete', 'obstruction', 'forest', 'canopy', 'cover', 'mean', 'agriculture', 'plantation', 'cattleranching', 'nonforest', 'field', 'forest', 'use', 'change', 'example', 'forest', 'disintegration', 'changing', 'spatial', 'continuity', 'creating', 'mosaic', 'forest', 'block', 'land', 'cover', 'type', 'dreadful', 'condition', 'selective', 'logging', 'woody', 'specie', 'profitable', 'purpose', 'affect', 'forest', 'subfloor', 'biodiversity', 'general', 'meaning', 'term', 'deforestation', 'linked', 'value', 'system', 'type', 'measurement', 'designed', 'ass', 'thus', 'interpretation', 'deforestation', 'cause', 'noticeable', 'change', 'estimate', 'forest', 'clearedone', 'reason', 'forest', 'depletion', 'grow', 'cash', 'crop', 'nine', 'west', 'african', 'country', 'depend', 'cash', 'crop', 'export', 'product', 'like', 'gum', 'copal', 'rubber', 'cola', 'nut', 'palm', 'oil', 'provide', 'rather', 'steady', 'income', 'revenue', 'west', 'african', 'country', 'land', 'use', 'change', 'spoil', 'entire', 'habitat', 'forest', 'converting', 'forest', 'timber', 'another', 'cause', 'deforestation', 'decade', 'primary', 'forest', 'product', 'commercial', 'timber', 'urbanized', 'country', 'account', 'great', 'percentage', 'world', 'wood', 'consumption', 'increased', 'greatly', 'simultaneously', 'preservation', 'measure', 'reinforced', 'protect', 'european', 'american', 'forest', 'economic', 'growth', 'growing', 'environmental', 'protection', 'industrialized', 'european', 'country', 'made', 'request', 'tropical', 'hardwood', 'become', 'strong', 'west', 'africa', 'first', 'half', 'annual', 'forest', 'loss', 'km', 'sq', 'mi', 'note', 'along', 'gulf', 'guinea', 'figure', 'equivalent', 'per', 'cent', 'total', 'remaining', 'rain', 'forest', 'area', 'west', 'africa', 'rainforest', 'transformed', 'fallow', 'land', 'additional', 'opened', 'timber', 'exploitationtropical', 'timber', 'became', 'viable', 'choice', 'european', 'wood', 'following', 'world', 'war', 'ii', 'trade', 'east', 'european', 'country', 'stop', 'timber', 'noticeably', 'became', 'sparse', 'western', 'southern', 'europe', 'despite', 'effort', 'promote', 'lesser', 'known', 'timber', 'specie', 'use', 'market', 'continued', 'focus', 'part', 'usable', 'timber', 'obtainable', 'west', 'africa', 'prone', 'selective', 'harvesting', 'practice', 'conservationist', 'blamed', 'timber', 'industry', 'farmer', 'felling', 'tree', 'others', 'believe', 'rain', 'forest', 'destruction', 'connected', 'problem', 'fuel', 'wood', 'contribution', 'fuel', 'wood', 'consumption', 'tree', 'stock', 'decline', 'africa', 'believed', 'significant', 'generally', 'believed', 'firewood', 'provides', 'energy', 'used', 'subsahara', 'africa', 'high', 'demand', 'consumption', 'wood', 'fuel', 'exceeds', 'renewal', 'forest', 'coverafrican', 'pygmy', 'living', 'dzangasangha', 'special', 'reservethe', 'rain', 'forest', 'remain', 'west', 'africa', 'merely', 'hardly', 'year', 'ago', 'guinea', 'liberia', 'ivory', 'coast', 'almost', 'primary', 'forest', 'cover', 'left', 'unscathed', 'ghana', 'situation', 'much', 'worse', 'nearly', 'rain', 'forest', 'cut', 'guineabissau', 'loses', 'km', 'sq', 'mi', 'forest', 'yearly', 'senegal', 'km', 'sq', 'mi', 'wooded', 'savanna', 'nigeria', 'liberia', 'exploit', 'km', 'sq', 'mi', 'forest', 'year', 'extrapolating', 'present', 'rate', 'loss', 'botanist', 'peter', 'raven', 'picture', 'majority', 'world', 'moderate', 'smaller', 'rain', 'forest', 'africa', 'could', 'ruined', 'forty', 'year', 'tropical', 'africa', 'world', 'total', 'covering', 'million', 'km', 'million', 'sq', 'mi', 'land', 'west', 'central', 'africa', 'region', 'facing', 'deforestation', 'various', 'degree', 'intensity', 'throughout', 'recent', 'decade', 'actual', 'rate', 'deforestation', 'varies', 'one', 'country', 'another', 'accurate', 'data', 'exist', 'yet', 'recent', 'estimate', 'show', 'annual', 'pace', 'deforestation', 'region', 'vary', 'km', 'sq', 'mi', 'gabon', 'km', 'sq', 'mi', 'cote', 'divoire', 'remaining', 'tropical', 'forest', 'still', 'cover', 'major', 'area', 'central', 'africa', 'abridged', 'patch', 'west', 'africathe', 'african', 'timber', 'organization', 'member', 'country', 'ato', 'eventually', 'recognized', 'cooperation', 'rural', 'people', 'forest', 'environment', 'customary', 'law', 'give', 'resident', 'right', 'use', 'tree', 'firewood', 'fell', 'tree', 'construction', 'collect', 'forest', 'product', 'right', 'hunting', 'fishing', 'grazing', 'clearing', 'forest', 'maintenance', 'agriculture', 'area', 'called', 'protected', 'forest', 'mean', 'uncontrolled', 'clearing', 'unauthorized', 'logging', 'forbidden', 'world', 'war', 'ii', 'commercial', 'exploitation', 'increased', 'west', 'african', 'forestry', 'department', 'able', 'making', 'law', 'comparison', 'rain', 'forest', 'place', 'world', 'africa', 'showed', 'greatest', 'infringement', 'though', 'total', 'volume', 'mean', 'african', 'timber', 'production', 'accounted', 'one', 'third', 'compared', 'asia', 'difference', 'due', 'variety', 'tree', 'africa', 'forest', 'demand', 'specific', 'wood', 'type', 'europeforestry', 'regulation', 'east', 'africa', 'first', 'applied', 'colonial', 'government', 'strict', 'enough', 'fill', 'forest', 'exploitation', 'wasnt', 'inadequate', 'performance', 'forest', 'regulation', 'recognized', 'tropical', 'forestry', 'action', 'plan', 'conceived', 'world', 'resource', 'institute', 'cooperation', 'food', 'agriculture', 'organization', 'united', 'nation', 'development', 'program', 'undp', 'world', 'bank', 'hope', 'halting', 'tropical', 'forest', 'destruction', 'bid', 'stress', 'forest', 'conservation', 'development', 'world', 'bank', 'provided', 'million', 'building', 'country', 'especially', 'africa', 'help', 'developing', 'long', 'range', 'forest', 'conservation', 'management', 'program', 'meant', 'ending', 'deforestation']\n"
          ],
          "name": "stdout"
        }
      ]
    },
    {
      "cell_type": "code",
      "metadata": {
        "colab": {
          "base_uri": "https://localhost:8080/"
        },
        "id": "tqQsMsUIKUnN",
        "outputId": "659be66b-f92a-4c55-a7fe-f0c66e1b2af6"
      },
      "source": [
        "corpus = \" \".join(corpus)\n",
        "print(corpus)"
      ],
      "execution_count": 7,
      "outputs": [
        {
          "output_type": "stream",
          "text": [
            "tropical rainforest tropical moist forest semideciduous variety distributed across nine west african country institute sea research conducted temperature record dating back year ago several conservation development demographic setting loss rain forest occurred country higher population growth lack dependable data survey information country made account area unbroken forest andor land use change relation economic indicator difficult ascertain hence amount rate deforestation africa le known region tropicsthe term deforestation refers complete obstruction forest canopy cover mean agriculture plantation cattleranching nonforest field forest use change example forest disintegration changing spatial continuity creating mosaic forest block land cover type dreadful condition selective logging woody specie profitable purpose affect forest subfloor biodiversity general meaning term deforestation linked value system type measurement designed ass thus interpretation deforestation cause noticeable change estimate forest clearedone reason forest depletion grow cash crop nine west african country depend cash crop export product like gum copal rubber cola nut palm oil provide rather steady income revenue west african country land use change spoil entire habitat forest converting forest timber another cause deforestation decade primary forest product commercial timber urbanized country account great percentage world wood consumption increased greatly simultaneously preservation measure reinforced protect european american forest economic growth growing environmental protection industrialized european country made request tropical hardwood become strong west africa first half annual forest loss km sq mi note along gulf guinea figure equivalent per cent total remaining rain forest area west africa rainforest transformed fallow land additional opened timber exploitationtropical timber became viable choice european wood following world war ii trade east european country stop timber noticeably became sparse western southern europe despite effort promote lesser known timber specie use market continued focus part usable timber obtainable west africa prone selective harvesting practice conservationist blamed timber industry farmer felling tree others believe rain forest destruction connected problem fuel wood contribution fuel wood consumption tree stock decline africa believed significant generally believed firewood provides energy used subsahara africa high demand consumption wood fuel exceeds renewal forest coverafrican pygmy living dzangasangha special reservethe rain forest remain west africa merely hardly year ago guinea liberia ivory coast almost primary forest cover left unscathed ghana situation much worse nearly rain forest cut guineabissau loses km sq mi forest yearly senegal km sq mi wooded savanna nigeria liberia exploit km sq mi forest year extrapolating present rate loss botanist peter raven picture majority world moderate smaller rain forest africa could ruined forty year tropical africa world total covering million km million sq mi land west central africa region facing deforestation various degree intensity throughout recent decade actual rate deforestation varies one country another accurate data exist yet recent estimate show annual pace deforestation region vary km sq mi gabon km sq mi cote divoire remaining tropical forest still cover major area central africa abridged patch west africathe african timber organization member country ato eventually recognized cooperation rural people forest environment customary law give resident right use tree firewood fell tree construction collect forest product right hunting fishing grazing clearing forest maintenance agriculture area called protected forest mean uncontrolled clearing unauthorized logging forbidden world war ii commercial exploitation increased west african forestry department able making law comparison rain forest place world africa showed greatest infringement though total volume mean african timber production accounted one third compared asia difference due variety tree africa forest demand specific wood type europeforestry regulation east africa first applied colonial government strict enough fill forest exploitation wasnt inadequate performance forest regulation recognized tropical forestry action plan conceived world resource institute cooperation food agriculture organization united nation development program undp world bank hope halting tropical forest destruction bid stress forest conservation development world bank provided million building country especially africa help developing long range forest conservation management program meant ending deforestation\n"
          ],
          "name": "stdout"
        }
      ]
    },
    {
      "cell_type": "markdown",
      "metadata": {
        "id": "9p3SwkVO90oQ"
      },
      "source": [
        "## Step 1: Build vocab from text corpus"
      ]
    },
    {
      "cell_type": "code",
      "metadata": {
        "id": "te7B8PBx3rjF"
      },
      "source": [
        "def build_vocab(corpus: str) -> dict:\n",
        "  # Separate each character in every word in the corpus by a space and add mark end os token\n",
        "  tokens = [\" \".join(word) + \" </w>\" for word in corpus.split()]\n",
        "  # Count frequency of tokens in corpus\n",
        "  vocab = Counter(tokens)\n",
        "  return vocab"
      ],
      "execution_count": 8,
      "outputs": []
    },
    {
      "cell_type": "code",
      "metadata": {
        "colab": {
          "base_uri": "https://localhost:8080/"
        },
        "id": "jrm5g2nsYA-O",
        "outputId": "c9331f34-a195-42c8-d68e-661fad9292e8"
      },
      "source": [
        "build_vocab(corpus).items()"
      ],
      "execution_count": 9,
      "outputs": [
        {
          "output_type": "execute_result",
          "data": {
            "text/plain": [
              "dict_items([('t r o p i c a l </w>', 7), ('r a i n f o r e s t </w>', 2), ('m o i s t </w>', 1), ('f o r e s t </w>', 36), ('s e m i d e c i d u o u s </w>', 1), ('v a r i e t y </w>', 2), ('d i s t r i b u t e d </w>', 1), ('a c r o s s </w>', 1), ('n i n e </w>', 2), ('w e s t </w>', 10), ('a f r i c a n </w>', 6), ('c o u n t r y </w>', 11), ('i n s t i t u t e </w>', 2), ('s e a </w>', 1), ('r e s e a r c h </w>', 1), ('c o n d u c t e d </w>', 1), ('t e m p e r a t u r e </w>', 1), ('r e c o r d </w>', 1), ('d a t i n g </w>', 1), ('b a c k </w>', 1), ('y e a r </w>', 4), ('a g o </w>', 2), ('s e v e r a l </w>', 1), ('c o n s e r v a t i o n </w>', 3), ('d e v e l o p m e n t </w>', 3), ('d e m o g r a p h i c </w>', 1), ('s e t t i n g </w>', 1), ('l o s s </w>', 3), ('r a i n </w>', 7), ('o c c u r r e d </w>', 1), ('h i g h e r </w>', 1), ('p o p u l a t i o n </w>', 1), ('g r o w t h </w>', 2), ('l a c k </w>', 1), ('d e p e n d a b l e </w>', 1), ('d a t a </w>', 2), ('s u r v e y </w>', 1), ('i n f o r m a t i o n </w>', 1), ('m a d e </w>', 2), ('a c c o u n t </w>', 2), ('a r e a </w>', 4), ('u n b r o k e n </w>', 1), ('a n d o r </w>', 1), ('l a n d </w>', 5), ('u s e </w>', 5), ('c h a n g e </w>', 4), ('r e l a t i o n </w>', 1), ('e c o n o m i c </w>', 2), ('i n d i c a t o r </w>', 1), ('d i f f i c u l t </w>', 1), ('a s c e r t a i n </w>', 1), ('h e n c e </w>', 1), ('a m o u n t </w>', 1), ('r a t e </w>', 3), ('d e f o r e s t a t i o n </w>', 9), ('a f r i c a </w>', 15), ('l e </w>', 1), ('k n o w n </w>', 2), ('r e g i o n </w>', 3), ('t r o p i c s t h e </w>', 1), ('t e r m </w>', 2), ('r e f e r s </w>', 1), ('c o m p l e t e </w>', 1), ('o b s t r u c t i o n </w>', 1), ('c a n o p y </w>', 1), ('c o v e r </w>', 4), ('m e a n </w>', 3), ('a g r i c u l t u r e </w>', 3), ('p l a n t a t i o n </w>', 1), ('c a t t l e r a n c h i n g </w>', 1), ('n o n f o r e s t </w>', 1), ('f i e l d </w>', 1), ('e x a m p l e </w>', 1), ('d i s i n t e g r a t i o n </w>', 1), ('c h a n g i n g </w>', 1), ('s p a t i a l </w>', 1), ('c o n t i n u i t y </w>', 1), ('c r e a t i n g </w>', 1), ('m o s a i c </w>', 1), ('b l o c k </w>', 1), ('t y p e </w>', 3), ('d r e a d f u l </w>', 1), ('c o n d i t i o n </w>', 1), ('s e l e c t i v e </w>', 2), ('l o g g i n g </w>', 2), ('w o o d y </w>', 1), ('s p e c i e </w>', 2), ('p r o f i t a b l e </w>', 1), ('p u r p o s e </w>', 1), ('a f f e c t </w>', 1), ('s u b f l o o r </w>', 1), ('b i o d i v e r s i t y </w>', 1), ('g e n e r a l </w>', 1), ('m e a n i n g </w>', 1), ('l i n k e d </w>', 1), ('v a l u e </w>', 1), ('s y s t e m </w>', 1), ('m e a s u r e m e n t </w>', 1), ('d e s i g n e d </w>', 1), ('a s s </w>', 1), ('t h u s </w>', 1), ('i n t e r p r e t a t i o n </w>', 1), ('c a u s e </w>', 2), ('n o t i c e a b l e </w>', 1), ('e s t i m a t e </w>', 2), ('c l e a r e d o n e </w>', 1), ('r e a s o n </w>', 1), ('d e p l e t i o n </w>', 1), ('g r o w </w>', 1), ('c a s h </w>', 2), ('c r o p </w>', 2), ('d e p e n d </w>', 1), ('e x p o r t </w>', 1), ('p r o d u c t </w>', 3), ('l i k e </w>', 1), ('g u m </w>', 1), ('c o p a l </w>', 1), ('r u b b e r </w>', 1), ('c o l a </w>', 1), ('n u t </w>', 1), ('p a l m </w>', 1), ('o i l </w>', 1), ('p r o v i d e </w>', 1), ('r a t h e r </w>', 1), ('s t e a d y </w>', 1), ('i n c o m e </w>', 1), ('r e v e n u e </w>', 1), ('s p o i l </w>', 1), ('e n t i r e </w>', 1), ('h a b i t a t </w>', 1), ('c o n v e r t i n g </w>', 1), ('t i m b e r </w>', 10), ('a n o t h e r </w>', 2), ('d e c a d e </w>', 2), ('p r i m a r y </w>', 2), ('c o m m e r c i a l </w>', 2), ('u r b a n i z e d </w>', 1), ('g r e a t </w>', 1), ('p e r c e n t a g e </w>', 1), ('w o r l d </w>', 9), ('w o o d </w>', 6), ('c o n s u m p t i o n </w>', 3), ('i n c r e a s e d </w>', 2), ('g r e a t l y </w>', 1), ('s i m u l t a n e o u s l y </w>', 1), ('p r e s e r v a t i o n </w>', 1), ('m e a s u r e </w>', 1), ('r e i n f o r c e d </w>', 1), ('p r o t e c t </w>', 1), ('e u r o p e a n </w>', 4), ('a m e r i c a n </w>', 1), ('g r o w i n g </w>', 1), ('e n v i r o n m e n t a l </w>', 1), ('p r o t e c t i o n </w>', 1), ('i n d u s t r i a l i z e d </w>', 1), ('r e q u e s t </w>', 1), ('h a r d w o o d </w>', 1), ('b e c o m e </w>', 1), ('s t r o n g </w>', 1), ('f i r s t </w>', 2), ('h a l f </w>', 1), ('a n n u a l </w>', 2), ('k m </w>', 7), ('s q </w>', 7), ('m i </w>', 7), ('n o t e </w>', 1), ('a l o n g </w>', 1), ('g u l f </w>', 1), ('g u i n e a </w>', 2), ('f i g u r e </w>', 1), ('e q u i v a l e n t </w>', 1), ('p e r </w>', 1), ('c e n t </w>', 1), ('t o t a l </w>', 3), ('r e m a i n i n g </w>', 2), ('t r a n s f o r m e d </w>', 1), ('f a l l o w </w>', 1), ('a d d i t i o n a l </w>', 1), ('o p e n e d </w>', 1), ('e x p l o i t a t i o n t r o p i c a l </w>', 1), ('b e c a m e </w>', 2), ('v i a b l e </w>', 1), ('c h o i c e </w>', 1), ('f o l l o w i n g </w>', 1), ('w a r </w>', 2), ('i i </w>', 2), ('t r a d e </w>', 1), ('e a s t </w>', 2), ('s t o p </w>', 1), ('n o t i c e a b l y </w>', 1), ('s p a r s e </w>', 1), ('w e s t e r n </w>', 1), ('s o u t h e r n </w>', 1), ('e u r o p e </w>', 1), ('d e s p i t e </w>', 1), ('e f f o r t </w>', 1), ('p r o m o t e </w>', 1), ('l e s s e r </w>', 1), ('m a r k e t </w>', 1), ('c o n t i n u e d </w>', 1), ('f o c u s </w>', 1), ('p a r t </w>', 1), ('u s a b l e </w>', 1), ('o b t a i n a b l e </w>', 1), ('p r o n e </w>', 1), ('h a r v e s t i n g </w>', 1), ('p r a c t i c e </w>', 1), ('c o n s e r v a t i o n i s t </w>', 1), ('b l a m e d </w>', 1), ('i n d u s t r y </w>', 1), ('f a r m e r </w>', 1), ('f e l l i n g </w>', 1), ('t r e e </w>', 5), ('o t h e r s </w>', 1), ('b e l i e v e </w>', 1), ('d e s t r u c t i o n </w>', 2), ('c o n n e c t e d </w>', 1), ('p r o b l e m </w>', 1), ('f u e l </w>', 3), ('c o n t r i b u t i o n </w>', 1), ('s t o c k </w>', 1), ('d e c l i n e </w>', 1), ('b e l i e v e d </w>', 2), ('s i g n i f i c a n t </w>', 1), ('g e n e r a l l y </w>', 1), ('f i r e w o o d </w>', 2), ('p r o v i d e s </w>', 1), ('e n e r g y </w>', 1), ('u s e d </w>', 1), ('s u b s a h a r a </w>', 1), ('h i g h </w>', 1), ('d e m a n d </w>', 2), ('e x c e e d s </w>', 1), ('r e n e w a l </w>', 1), ('c o v e r a f r i c a n </w>', 1), ('p y g m y </w>', 1), ('l i v i n g </w>', 1), ('d z a n g a s a n g h a </w>', 1), ('s p e c i a l </w>', 1), ('r e s e r v e t h e </w>', 1), ('r e m a i n </w>', 1), ('m e r e l y </w>', 1), ('h a r d l y </w>', 1), ('l i b e r i a </w>', 2), ('i v o r y </w>', 1), ('c o a s t </w>', 1), ('a l m o s t </w>', 1), ('l e f t </w>', 1), ('u n s c a t h e d </w>', 1), ('g h a n a </w>', 1), ('s i t u a t i o n </w>', 1), ('m u c h </w>', 1), ('w o r s e </w>', 1), ('n e a r l y </w>', 1), ('c u t </w>', 1), ('g u i n e a b i s s a u </w>', 1), ('l o s e s </w>', 1), ('y e a r l y </w>', 1), ('s e n e g a l </w>', 1), ('w o o d e d </w>', 1), ('s a v a n n a </w>', 1), ('n i g e r i a </w>', 1), ('e x p l o i t </w>', 1), ('e x t r a p o l a t i n g </w>', 1), ('p r e s e n t </w>', 1), ('b o t a n i s t </w>', 1), ('p e t e r </w>', 1), ('r a v e n </w>', 1), ('p i c t u r e </w>', 1), ('m a j o r i t y </w>', 1), ('m o d e r a t e </w>', 1), ('s m a l l e r </w>', 1), ('c o u l d </w>', 1), ('r u i n e d </w>', 1), ('f o r t y </w>', 1), ('c o v e r i n g </w>', 1), ('m i l l i o n </w>', 3), ('c e n t r a l </w>', 2), ('f a c i n g </w>', 1), ('v a r i o u s </w>', 1), ('d e g r e e </w>', 1), ('i n t e n s i t y </w>', 1), ('t h r o u g h o u t </w>', 1), ('r e c e n t </w>', 2), ('a c t u a l </w>', 1), ('v a r i e s </w>', 1), ('o n e </w>', 2), ('a c c u r a t e </w>', 1), ('e x i s t </w>', 1), ('y e t </w>', 1), ('s h o w </w>', 1), ('p a c e </w>', 1), ('v a r y </w>', 1), ('g a b o n </w>', 1), ('c o t e </w>', 1), ('d i v o i r e </w>', 1), ('s t i l l </w>', 1), ('m a j o r </w>', 1), ('a b r i d g e d </w>', 1), ('p a t c h </w>', 1), ('a f r i c a t h e </w>', 1), ('o r g a n i z a t i o n </w>', 2), ('m e m b e r </w>', 1), ('a t o </w>', 1), ('e v e n t u a l l y </w>', 1), ('r e c o g n i z e d </w>', 2), ('c o o p e r a t i o n </w>', 2), ('r u r a l </w>', 1), ('p e o p l e </w>', 1), ('e n v i r o n m e n t </w>', 1), ('c u s t o m a r y </w>', 1), ('l a w </w>', 2), ('g i v e </w>', 1), ('r e s i d e n t </w>', 1), ('r i g h t </w>', 2), ('f e l l </w>', 1), ('c o n s t r u c t i o n </w>', 1), ('c o l l e c t </w>', 1), ('h u n t i n g </w>', 1), ('f i s h i n g </w>', 1), ('g r a z i n g </w>', 1), ('c l e a r i n g </w>', 2), ('m a i n t e n a n c e </w>', 1), ('c a l l e d </w>', 1), ('p r o t e c t e d </w>', 1), ('u n c o n t r o l l e d </w>', 1), ('u n a u t h o r i z e d </w>', 1), ('f o r b i d d e n </w>', 1), ('e x p l o i t a t i o n </w>', 2), ('f o r e s t r y </w>', 2), ('d e p a r t m e n t </w>', 1), ('a b l e </w>', 1), ('m a k i n g </w>', 1), ('c o m p a r i s o n </w>', 1), ('p l a c e </w>', 1), ('s h o w e d </w>', 1), ('g r e a t e s t </w>', 1), ('i n f r i n g e m e n t </w>', 1), ('t h o u g h </w>', 1), ('v o l u m e </w>', 1), ('p r o d u c t i o n </w>', 1), ('a c c o u n t e d </w>', 1), ('t h i r d </w>', 1), ('c o m p a r e d </w>', 1), ('a s i a </w>', 1), ('d i f f e r e n c e </w>', 1), ('d u e </w>', 1), ('s p e c i f i c </w>', 1), ('e u r o p e f o r e s t r y </w>', 1), ('r e g u l a t i o n </w>', 2), ('a p p l i e d </w>', 1), ('c o l o n i a l </w>', 1), ('g o v e r n m e n t </w>', 1), ('s t r i c t </w>', 1), ('e n o u g h </w>', 1), ('f i l l </w>', 1), ('w a s n t </w>', 1), ('i n a d e q u a t e </w>', 1), ('p e r f o r m a n c e </w>', 1), ('a c t i o n </w>', 1), ('p l a n </w>', 1), ('c o n c e i v e d </w>', 1), ('r e s o u r c e </w>', 1), ('f o o d </w>', 1), ('u n i t e d </w>', 1), ('n a t i o n </w>', 1), ('p r o g r a m </w>', 2), ('u n d p </w>', 1), ('b a n k </w>', 2), ('h o p e </w>', 1), ('h a l t i n g </w>', 1), ('b i d </w>', 1), ('s t r e s s </w>', 1), ('p r o v i d e d </w>', 1), ('b u i l d i n g </w>', 1), ('e s p e c i a l l y </w>', 1), ('h e l p </w>', 1), ('d e v e l o p i n g </w>', 1), ('l o n g </w>', 1), ('r a n g e </w>', 1), ('m a n a g e m e n t </w>', 1), ('m e a n t </w>', 1), ('e n d i n g </w>', 1)])"
            ]
          },
          "metadata": {
            "tags": []
          },
          "execution_count": 9
        }
      ]
    },
    {
      "cell_type": "markdown",
      "metadata": {
        "id": "PX6Bdt2ZUa-x"
      },
      "source": [
        "## Get counts of pairs of consecutive sequences"
      ]
    },
    {
      "cell_type": "code",
      "metadata": {
        "id": "PMd6IXvvdwsp"
      },
      "source": [
        "def get_stats(vocab: dict) ->  str:\n",
        "  pairs = defaultdict(int)\n",
        "  for word, frequency in vocab.items():\n",
        "    symbols = word.split()\n",
        "    # Counting up frequencies of pairs\n",
        "    for i in range(len(symbols)-1):\n",
        "      pairs[symbols[i], symbols[i+1]] += frequency\n",
        "  return pairs"
      ],
      "execution_count": 10,
      "outputs": []
    },
    {
      "cell_type": "markdown",
      "metadata": {
        "id": "st5aNb6IcpZf"
      },
      "source": [
        "## Step 3: Merge all occurences of the most frequent pair"
      ]
    },
    {
      "cell_type": "code",
      "metadata": {
        "id": "OG1Nx0--3t-P"
      },
      "source": [
        "def merge_vocab(pair: tuple, v_in: dict) -> dict:\n",
        "  v_out = {}\n",
        "\n",
        "  # re.escape\n",
        "  # ensures the characters of our input pair will be handled as it is and\n",
        "  # not get mistreated as special characters in the regular expression.\n",
        "  bigram = re.escape(' '.join(pair))\n",
        "  p = re.compile(r'(?<!\\S)' + bigram + r'(?!\\S)')\n",
        "  for word in v_in:\n",
        "    w_out = p.sub(''.join(pair), word)   # For eg: 'a b' gets replaced by 'ab' in 'a b b c a d a b'\n",
        "    v_out[w_out] = v_in[word]\n",
        "  return v_out"
      ],
      "execution_count": 11,
      "outputs": []
    },
    {
      "cell_type": "markdown",
      "metadata": {
        "id": "4gd1sQFKi3q6"
      },
      "source": [
        "## Run all the functions"
      ]
    },
    {
      "cell_type": "code",
      "metadata": {
        "id": "TtZR-73tjoa_"
      },
      "source": [
        "# step 1\n",
        "vocab = build_vocab(corpus)\n",
        "# hyperparameter \n",
        "# number of iterations of merges we want in our vocabulary\n",
        "num_merges = 300\n",
        "# Step 2\n",
        "for i in range(num_merges):\n",
        "  pairs = get_stats(vocab)\n",
        "  if not pairs:\n",
        "    break\n",
        "  # Step 3\n",
        "  best = max(pairs, key=pairs.get)\n",
        "  vocab = merge_vocab(best, vocab)"
      ],
      "execution_count": 12,
      "outputs": []
    },
    {
      "cell_type": "code",
      "metadata": {
        "colab": {
          "base_uri": "https://localhost:8080/"
        },
        "id": "omGxwJRUms3B",
        "outputId": "a2540185-1ed9-4181-b4f4-b3f2ff8eb336"
      },
      "source": [
        "# Final vacabulary\n",
        "print(vocab)"
      ],
      "execution_count": 13,
      "outputs": [
        {
          "output_type": "stream",
          "text": [
            "{'tropical</w>': 7, 'rainforest</w>': 2, 'mo ist</w>': 1, 'forest</w>': 36, 'se mi de ci du ous</w>': 1, 'variety</w>': 2, 'di stri bu ted</w>': 1, 'ac ro ss</w>': 1, 'nine</w>': 2, 'west</w>': 10, 'african</w>': 6, 'country</w>': 11, 'institute</w>': 2, 'se a</w>': 1, 'res ear ch</w>': 1, 'con duc ted</w>': 1, 't e mp er a ture</w>': 1, 'reco rd</w>': 1, 'd ating</w>': 1, 'b ack</w>': 1, 'year</w>': 4, 'ago</w>': 2, 'se ver al</w>': 1, 'conservation</w>': 3, 'development</w>': 3, 'de mo gra p h ic</w>': 1, 'se t ting</w>': 1, 'loss</w>': 3, 'rain</w>': 7, 'oc cu r re d</w>': 1, 'hi gh er</w>': 1, 'p op ulation</w>': 1, 'growth</w>': 2, 'l ack</w>': 1, 'depen d able</w>': 1, 'data</w>': 2, 'su r ve y</w>': 1, 'in form ation</w>': 1, 'made</w>': 2, 'account</w>': 2, 'area</w>': 4, 'un b ro k en</w>': 1, 'an d or</w>': 1, 'land</w>': 5, 'use</w>': 5, 'change</w>': 4, 're l ation</w>': 1, 'economic</w>': 2, 'in d ic at or</w>': 1, 'diff ic ul t</w>': 1, 'as c er tain </w>': 1, 'h en ce</w>': 1, 'a mo un t</w>': 1, 'rate</w>': 3, 'deforestation</w>': 9, 'africa</w>': 15, 'le</w>': 1, 'k no w n</w>': 2, 'region</w>': 3, 'tropic st h e</w>': 1, 't er m</w>': 2, 're f er s</w>': 1, 'comp le te</w>': 1, 'o b struction</w>': 1, 'c an op y</w>': 1, 'cover</w>': 4, 'mean</w>': 3, 'agriculture</w>': 3, 'pl an t ation</w>': 1, 'c at t l er an ch ing</w>': 1, 'n on forest</w>': 1, 'fi el d</w>': 1, 'ex a mp le</w>': 1, 'di s int e g r ation</w>': 1, 'chang ing</w>': 1, 'sp ati al</w>': 1, 'con tin u ity</w>': 1, 'cre ating</w>': 1, 'mo sa ic</w>': 1, 'b lo c k</w>': 1, 'type</w>': 3, 'd re ad f ul </w>': 1, 'con di tion</w>': 1, 's el ec ti ve</w>': 2, 'lo g g ing</w>': 2, 'woo d y</w>': 1, 'speci e</w>': 2, 'pro f it able</w>': 1, 'p u r p o se</w>': 1, 'af f ect</w>': 1, 'su b f lo or</w>': 1, 'bi o di ver s ity</w>': 1, 'g ener al</w>': 1, 'me an ing</w>': 1, 'l in k ed</w>': 1, 'v al u e</w>': 1, 's y st e m</w>': 1, 'me as u re ment</w>': 1, 'de si gn ed</w>': 1, 'as s</w>': 1, 'th u s</w>': 1, 'int er p re t ation</w>': 1, 'ca use</w>': 2, 'no ti ce able</w>': 1, 'e s tim ate</w>': 2, 'c le are d one</w>': 1, 're as on</w>': 1, 'dep le tion</w>': 1, 'gro w</w>': 1, 'c as h </w>': 2, 'c rop </w>': 2, 'depen d</w>': 1, 'exp or t</w>': 1, 'product</w>': 3, 'li k e</w>': 1, 'gu m</w>': 1, 'co p al</w>': 1, 'ru b ber</w>': 1, 'col a</w>': 1, 'nu t</w>': 1, 'p al m</w>': 1, 'oi l</w>': 1, 'provi de</w>': 1, 'ra ther</w>': 1, 'st e ad y</w>': 1, 'in co me</w>': 1, 're v en u e</w>': 1, 'sp oi l</w>': 1, 'en ti re</w>': 1, 'h ab it a t</w>': 1, 'con ver ting</w>': 1, 'timber</w>': 10, 'an o ther</w>': 2, 'de ca de</w>': 2, 'p ri mary</w>': 2, 'co m mer ci al</w>': 2, 'u r ban ized</w>': 1, 'gre a t</w>': 1, 'p er cent ag e</w>': 1, 'world</w>': 9, 'wood</w>': 6, 'consumption</w>': 3, 'in cre as ed</w>': 2, 'gre at ly</w>': 1, 'si m ul t an e o us ly</w>': 1, 'p res erv ation</w>': 1, 'me as u re</w>': 1, 're in for c ed</w>': 1, 'prot ect</w>': 1, 'european</w>': 4, 'a mer ic an</w>': 1, 'grow ing</w>': 1, 'en vi ron m ent al</w>': 1, 'prot ec tion</w>': 1, 'in du stri al ized</w>': 1, 're qu est</w>': 1, 'har d wood</w>': 1, 'b e co me</w>': 1, 'st ron g</w>': 1, 'fi r st</w>': 2, 'h al f </w>': 1, 'an nu al</w>': 2, 'km</w>': 7, 'sq</w>': 7, 'mi</w>': 7, 'no te</w>': 1, 'al on g</w>': 1, 'g ul f </w>': 1, 'guine a</w>': 2, 'fi gu re</w>': 1, 'e qu iv al ent</w>': 1, 'p er</w>': 1, 'cent</w>': 1, 'total</w>': 3, 'remain ing</w>': 2, 't r an s form ed</w>': 1, 'f al lo w</w>': 1, 'ad di ti on al</w>': 1, 'op en ed</w>': 1, 'exploit ati on tropical</w>': 1, 'b ec a me</w>': 2, 'vi able</w>': 1, 'ch o ic e</w>': 1, 'fo l lo w ing</w>': 1, 'w ar </w>': 2, 'i i </w>': 2, 't ra de</w>': 1, 'e ast</w>': 2, 'st op </w>': 1, 'no ti ce ab ly</w>': 1, 'sp ar se</w>': 1, 'w e st er n</w>': 1, 's ou th er n</w>': 1, 'europ e</w>': 1, 'de sp i te</w>': 1, 'e f for t</w>': 1, 'pro mo te</w>': 1, 'le s s er</w>': 1, 'mar k e t</w>': 1, 'con tin u ed</w>': 1, 'fo cu s</w>': 1, 'p ar t</w>': 1, 'us able</w>': 1, 'o b tain able</w>': 1, 'p r one</w>': 1, 'har ve s ting</w>': 1, 'p ra c ti ce</w>': 1, 'conserv ati on ist</w>': 1, 'b la m ed</w>': 1, 'in du st ry</w>': 1, 'f ar m er</w>': 1, 'f el l ing</w>': 1, 'tree</w>': 5, 'o th er s</w>': 1, 'belie ve</w>': 1, 'de struction</w>': 2, 'con n ec ted</w>': 1, 'pro b le m</w>': 1, 'fuel</w>': 3, 'con t ri bu tion</w>': 1, 'st oc k</w>': 1, 'de cl ine</w>': 1, 'belie v ed</w>': 2, 'si gn i f ic an t</w>': 1, 'g ener ally</w>': 1, 'fi re wood</w>': 2, 'provi de s</w>': 1, 'ener g y</w>': 1, 'us ed</w>': 1, 'su b sa har a</w>': 1, 'hi gh</w>': 1, 'de m and</w>': 2, 'ex ce e d s</w>': 1, 're n e w al</w>': 1, 'co ver african</w>': 1, 'p y g m y</w>': 1, 'li v ing</w>': 1, 'd z ang as an gh a</w>': 1, 'speci al</w>': 1, 'res er ve th e</w>': 1, 'remain </w>': 1, 'me re ly</w>': 1, 'har d ly</w>': 1, 'li b eria</w>': 2, 'iv o ry</w>': 1, 'co ast</w>': 1, 'al mo st</w>': 1, 'le f t</w>': 1, 'un s ca th ed</w>': 1, 'gh an a</w>': 1, 's it u ation</w>': 1, 'm u ch</w>': 1, 'wor se</w>': 1, 'n ear ly</w>': 1, 'cu t</w>': 1, 'guine ab i s sa u </w>': 1, 'lo se s</w>': 1, 'year ly</w>': 1, 's en e g al</w>': 1, 'woo de d</w>': 1, 'sa v an n a</w>': 1, 'n i g eria</w>': 1, 'explo i t</w>': 1, 'ex t ra p o la ting</w>': 1, 'p res ent</w>': 1, 'b ot an ist</w>': 1, 'p e t er</w>': 1, 'ra v en</w>': 1, 'p ic ture</w>': 1, 'ma j or ity</w>': 1, 'mo d er ate</w>': 1, 's m al l er</w>': 1, 'co ul d</w>': 1, 'ru in ed</w>': 1, 'for ty</w>': 1, 'co ver ing</w>': 1, 'million</w>': 3, 'cent ral</w>': 2, 'f ac ing</w>': 1, 'var i ous</w>': 1, 'de g ree</w>': 1, 'int en s ity</w>': 1, 'th ro u gh ou t</w>': 1, 're cent</w>': 2, 'ac tu al</w>': 1, 'varie s</w>': 1, 'one</w>': 2, 'ac cu rate</w>': 1, 'ex ist</w>': 1, 'y e t</w>': 1, 'sh o w</w>': 1, 'p ac e</w>': 1, 'var y</w>': 1, 'g ab on</w>': 1, 'co te</w>': 1, 'di v oi re</w>': 1, 'sti l l</w>': 1, 'ma j or</w>': 1, 'ab ri d g ed</w>': 1, 'p at ch</w>': 1, 'afric a th e</w>': 1, 'or g an iz ation</w>': 2, 'me m ber</w>': 1, 'at o</w>': 1, 'e v en tu ally</w>': 1, 'reco gn ized</w>': 2, 'co op er ation</w>': 2, 'ru ral</w>': 1, 'p e op le</w>': 1, 'en vi ron ment</w>': 1, 'cu st o mary</w>': 1, 'la w</w>': 2, 'g i ve</w>': 1, 'res i d ent</w>': 1, 'ri gh t</w>': 2, 'f el l</w>': 1, 'con struction</w>': 1, 'col l ect</w>': 1, 'h un ting</w>': 1, 'fi sh ing</w>': 1, 'gra z ing</w>': 1, 'cl ear ing</w>': 2, 'ma int en an ce</w>': 1, 'c al l ed</w>': 1, 'prot ec ted</w>': 1, 'un con t ro l l ed</w>': 1, 'un a u th o ri z ed</w>': 1, 'for bi d d en</w>': 1, 'exploit ation</w>': 2, 'forestry</w>': 2, 'dep ar t ment</w>': 1, 'able</w>': 1, 'ma k ing</w>': 1, 'comp ar i s on</w>': 1, 'pl ac e</w>': 1, 'sh o w ed</w>': 1, 'gre at est</w>': 1, 'in f r in g e ment</w>': 1, 'th ou gh</w>': 1, 'v o l u me</w>': 1, 'produc tion</w>': 1, 'ac count ed</w>': 1, 'th i rd</w>': 1, 'comp are d</w>': 1, 'as ia</w>': 1, 'diff e re n ce</w>': 1, 'du e</w>': 1, 'speci f ic</w>': 1, 'europe forestry</w>': 1, 'reg ulation</w>': 2, 'a p p li ed</w>': 1, 'col on i al</w>': 1, 'g o ver n ment</w>': 1, 'st ric t</w>': 1, 'en ou gh</w>': 1, 'fi l l</w>': 1, 'w as n t</w>': 1, 'in a de qu ate</w>': 1, 'p er form an ce</w>': 1, 'ac tion</w>': 1, 'pl an</w>': 1, 'con ce iv ed</w>': 1, 'res ou r ce</w>': 1, 'fo o d</w>': 1, 'un it ed</w>': 1, 'n ation</w>': 1, 'pro gra m</w>': 2, 'un d p </w>': 1, 'ban k</w>': 2, 'h op e</w>': 1, 'h al ting</w>': 1, 'bi d</w>': 1, 'st res s</w>': 1, 'provi de d</w>': 1, 'bu i l d ing</w>': 1, 'e speci ally</w>': 1, 'h el p </w>': 1, 'develop ing</w>': 1, 'l on g</w>': 1, 'r ang e</w>': 1, 'm an ag e ment</w>': 1, 'me an t</w>': 1, 'en d ing</w>': 1}\n"
          ],
          "name": "stdout"
        }
      ]
    },
    {
      "cell_type": "markdown",
      "metadata": {
        "id": "fT8bYabCm_UM"
      },
      "source": [
        "Here, ends the Byte Pair Encoding algorithm!\n",
        "I hope you understood the main concepts behind the algorithm."
      ]
    },
    {
      "cell_type": "markdown",
      "metadata": {
        "id": "BXEvy6MznSC3"
      },
      "source": [
        "## Visualize the output of various steps below"
      ]
    },
    {
      "cell_type": "code",
      "metadata": {
        "colab": {
          "base_uri": "https://localhost:8080/"
        },
        "id": "oZOOf_MvjLLe",
        "outputId": "36e6443e-e2b3-43e9-f07c-a7f379b18791"
      },
      "source": [
        "print(vocab)\n",
        "print(len(vocab))"
      ],
      "execution_count": 14,
      "outputs": [
        {
          "output_type": "stream",
          "text": [
            "{'tropical</w>': 7, 'rainforest</w>': 2, 'mo ist</w>': 1, 'forest</w>': 36, 'se mi de ci du ous</w>': 1, 'variety</w>': 2, 'di stri bu ted</w>': 1, 'ac ro ss</w>': 1, 'nine</w>': 2, 'west</w>': 10, 'african</w>': 6, 'country</w>': 11, 'institute</w>': 2, 'se a</w>': 1, 'res ear ch</w>': 1, 'con duc ted</w>': 1, 't e mp er a ture</w>': 1, 'reco rd</w>': 1, 'd ating</w>': 1, 'b ack</w>': 1, 'year</w>': 4, 'ago</w>': 2, 'se ver al</w>': 1, 'conservation</w>': 3, 'development</w>': 3, 'de mo gra p h ic</w>': 1, 'se t ting</w>': 1, 'loss</w>': 3, 'rain</w>': 7, 'oc cu r re d</w>': 1, 'hi gh er</w>': 1, 'p op ulation</w>': 1, 'growth</w>': 2, 'l ack</w>': 1, 'depen d able</w>': 1, 'data</w>': 2, 'su r ve y</w>': 1, 'in form ation</w>': 1, 'made</w>': 2, 'account</w>': 2, 'area</w>': 4, 'un b ro k en</w>': 1, 'an d or</w>': 1, 'land</w>': 5, 'use</w>': 5, 'change</w>': 4, 're l ation</w>': 1, 'economic</w>': 2, 'in d ic at or</w>': 1, 'diff ic ul t</w>': 1, 'as c er tain </w>': 1, 'h en ce</w>': 1, 'a mo un t</w>': 1, 'rate</w>': 3, 'deforestation</w>': 9, 'africa</w>': 15, 'le</w>': 1, 'k no w n</w>': 2, 'region</w>': 3, 'tropic st h e</w>': 1, 't er m</w>': 2, 're f er s</w>': 1, 'comp le te</w>': 1, 'o b struction</w>': 1, 'c an op y</w>': 1, 'cover</w>': 4, 'mean</w>': 3, 'agriculture</w>': 3, 'pl an t ation</w>': 1, 'c at t l er an ch ing</w>': 1, 'n on forest</w>': 1, 'fi el d</w>': 1, 'ex a mp le</w>': 1, 'di s int e g r ation</w>': 1, 'chang ing</w>': 1, 'sp ati al</w>': 1, 'con tin u ity</w>': 1, 'cre ating</w>': 1, 'mo sa ic</w>': 1, 'b lo c k</w>': 1, 'type</w>': 3, 'd re ad f ul </w>': 1, 'con di tion</w>': 1, 's el ec ti ve</w>': 2, 'lo g g ing</w>': 2, 'woo d y</w>': 1, 'speci e</w>': 2, 'pro f it able</w>': 1, 'p u r p o se</w>': 1, 'af f ect</w>': 1, 'su b f lo or</w>': 1, 'bi o di ver s ity</w>': 1, 'g ener al</w>': 1, 'me an ing</w>': 1, 'l in k ed</w>': 1, 'v al u e</w>': 1, 's y st e m</w>': 1, 'me as u re ment</w>': 1, 'de si gn ed</w>': 1, 'as s</w>': 1, 'th u s</w>': 1, 'int er p re t ation</w>': 1, 'ca use</w>': 2, 'no ti ce able</w>': 1, 'e s tim ate</w>': 2, 'c le are d one</w>': 1, 're as on</w>': 1, 'dep le tion</w>': 1, 'gro w</w>': 1, 'c as h </w>': 2, 'c rop </w>': 2, 'depen d</w>': 1, 'exp or t</w>': 1, 'product</w>': 3, 'li k e</w>': 1, 'gu m</w>': 1, 'co p al</w>': 1, 'ru b ber</w>': 1, 'col a</w>': 1, 'nu t</w>': 1, 'p al m</w>': 1, 'oi l</w>': 1, 'provi de</w>': 1, 'ra ther</w>': 1, 'st e ad y</w>': 1, 'in co me</w>': 1, 're v en u e</w>': 1, 'sp oi l</w>': 1, 'en ti re</w>': 1, 'h ab it a t</w>': 1, 'con ver ting</w>': 1, 'timber</w>': 10, 'an o ther</w>': 2, 'de ca de</w>': 2, 'p ri mary</w>': 2, 'co m mer ci al</w>': 2, 'u r ban ized</w>': 1, 'gre a t</w>': 1, 'p er cent ag e</w>': 1, 'world</w>': 9, 'wood</w>': 6, 'consumption</w>': 3, 'in cre as ed</w>': 2, 'gre at ly</w>': 1, 'si m ul t an e o us ly</w>': 1, 'p res erv ation</w>': 1, 'me as u re</w>': 1, 're in for c ed</w>': 1, 'prot ect</w>': 1, 'european</w>': 4, 'a mer ic an</w>': 1, 'grow ing</w>': 1, 'en vi ron m ent al</w>': 1, 'prot ec tion</w>': 1, 'in du stri al ized</w>': 1, 're qu est</w>': 1, 'har d wood</w>': 1, 'b e co me</w>': 1, 'st ron g</w>': 1, 'fi r st</w>': 2, 'h al f </w>': 1, 'an nu al</w>': 2, 'km</w>': 7, 'sq</w>': 7, 'mi</w>': 7, 'no te</w>': 1, 'al on g</w>': 1, 'g ul f </w>': 1, 'guine a</w>': 2, 'fi gu re</w>': 1, 'e qu iv al ent</w>': 1, 'p er</w>': 1, 'cent</w>': 1, 'total</w>': 3, 'remain ing</w>': 2, 't r an s form ed</w>': 1, 'f al lo w</w>': 1, 'ad di ti on al</w>': 1, 'op en ed</w>': 1, 'exploit ati on tropical</w>': 1, 'b ec a me</w>': 2, 'vi able</w>': 1, 'ch o ic e</w>': 1, 'fo l lo w ing</w>': 1, 'w ar </w>': 2, 'i i </w>': 2, 't ra de</w>': 1, 'e ast</w>': 2, 'st op </w>': 1, 'no ti ce ab ly</w>': 1, 'sp ar se</w>': 1, 'w e st er n</w>': 1, 's ou th er n</w>': 1, 'europ e</w>': 1, 'de sp i te</w>': 1, 'e f for t</w>': 1, 'pro mo te</w>': 1, 'le s s er</w>': 1, 'mar k e t</w>': 1, 'con tin u ed</w>': 1, 'fo cu s</w>': 1, 'p ar t</w>': 1, 'us able</w>': 1, 'o b tain able</w>': 1, 'p r one</w>': 1, 'har ve s ting</w>': 1, 'p ra c ti ce</w>': 1, 'conserv ati on ist</w>': 1, 'b la m ed</w>': 1, 'in du st ry</w>': 1, 'f ar m er</w>': 1, 'f el l ing</w>': 1, 'tree</w>': 5, 'o th er s</w>': 1, 'belie ve</w>': 1, 'de struction</w>': 2, 'con n ec ted</w>': 1, 'pro b le m</w>': 1, 'fuel</w>': 3, 'con t ri bu tion</w>': 1, 'st oc k</w>': 1, 'de cl ine</w>': 1, 'belie v ed</w>': 2, 'si gn i f ic an t</w>': 1, 'g ener ally</w>': 1, 'fi re wood</w>': 2, 'provi de s</w>': 1, 'ener g y</w>': 1, 'us ed</w>': 1, 'su b sa har a</w>': 1, 'hi gh</w>': 1, 'de m and</w>': 2, 'ex ce e d s</w>': 1, 're n e w al</w>': 1, 'co ver african</w>': 1, 'p y g m y</w>': 1, 'li v ing</w>': 1, 'd z ang as an gh a</w>': 1, 'speci al</w>': 1, 'res er ve th e</w>': 1, 'remain </w>': 1, 'me re ly</w>': 1, 'har d ly</w>': 1, 'li b eria</w>': 2, 'iv o ry</w>': 1, 'co ast</w>': 1, 'al mo st</w>': 1, 'le f t</w>': 1, 'un s ca th ed</w>': 1, 'gh an a</w>': 1, 's it u ation</w>': 1, 'm u ch</w>': 1, 'wor se</w>': 1, 'n ear ly</w>': 1, 'cu t</w>': 1, 'guine ab i s sa u </w>': 1, 'lo se s</w>': 1, 'year ly</w>': 1, 's en e g al</w>': 1, 'woo de d</w>': 1, 'sa v an n a</w>': 1, 'n i g eria</w>': 1, 'explo i t</w>': 1, 'ex t ra p o la ting</w>': 1, 'p res ent</w>': 1, 'b ot an ist</w>': 1, 'p e t er</w>': 1, 'ra v en</w>': 1, 'p ic ture</w>': 1, 'ma j or ity</w>': 1, 'mo d er ate</w>': 1, 's m al l er</w>': 1, 'co ul d</w>': 1, 'ru in ed</w>': 1, 'for ty</w>': 1, 'co ver ing</w>': 1, 'million</w>': 3, 'cent ral</w>': 2, 'f ac ing</w>': 1, 'var i ous</w>': 1, 'de g ree</w>': 1, 'int en s ity</w>': 1, 'th ro u gh ou t</w>': 1, 're cent</w>': 2, 'ac tu al</w>': 1, 'varie s</w>': 1, 'one</w>': 2, 'ac cu rate</w>': 1, 'ex ist</w>': 1, 'y e t</w>': 1, 'sh o w</w>': 1, 'p ac e</w>': 1, 'var y</w>': 1, 'g ab on</w>': 1, 'co te</w>': 1, 'di v oi re</w>': 1, 'sti l l</w>': 1, 'ma j or</w>': 1, 'ab ri d g ed</w>': 1, 'p at ch</w>': 1, 'afric a th e</w>': 1, 'or g an iz ation</w>': 2, 'me m ber</w>': 1, 'at o</w>': 1, 'e v en tu ally</w>': 1, 'reco gn ized</w>': 2, 'co op er ation</w>': 2, 'ru ral</w>': 1, 'p e op le</w>': 1, 'en vi ron ment</w>': 1, 'cu st o mary</w>': 1, 'la w</w>': 2, 'g i ve</w>': 1, 'res i d ent</w>': 1, 'ri gh t</w>': 2, 'f el l</w>': 1, 'con struction</w>': 1, 'col l ect</w>': 1, 'h un ting</w>': 1, 'fi sh ing</w>': 1, 'gra z ing</w>': 1, 'cl ear ing</w>': 2, 'ma int en an ce</w>': 1, 'c al l ed</w>': 1, 'prot ec ted</w>': 1, 'un con t ro l l ed</w>': 1, 'un a u th o ri z ed</w>': 1, 'for bi d d en</w>': 1, 'exploit ation</w>': 2, 'forestry</w>': 2, 'dep ar t ment</w>': 1, 'able</w>': 1, 'ma k ing</w>': 1, 'comp ar i s on</w>': 1, 'pl ac e</w>': 1, 'sh o w ed</w>': 1, 'gre at est</w>': 1, 'in f r in g e ment</w>': 1, 'th ou gh</w>': 1, 'v o l u me</w>': 1, 'produc tion</w>': 1, 'ac count ed</w>': 1, 'th i rd</w>': 1, 'comp are d</w>': 1, 'as ia</w>': 1, 'diff e re n ce</w>': 1, 'du e</w>': 1, 'speci f ic</w>': 1, 'europe forestry</w>': 1, 'reg ulation</w>': 2, 'a p p li ed</w>': 1, 'col on i al</w>': 1, 'g o ver n ment</w>': 1, 'st ric t</w>': 1, 'en ou gh</w>': 1, 'fi l l</w>': 1, 'w as n t</w>': 1, 'in a de qu ate</w>': 1, 'p er form an ce</w>': 1, 'ac tion</w>': 1, 'pl an</w>': 1, 'con ce iv ed</w>': 1, 'res ou r ce</w>': 1, 'fo o d</w>': 1, 'un it ed</w>': 1, 'n ation</w>': 1, 'pro gra m</w>': 2, 'un d p </w>': 1, 'ban k</w>': 2, 'h op e</w>': 1, 'h al ting</w>': 1, 'bi d</w>': 1, 'st res s</w>': 1, 'provi de d</w>': 1, 'bu i l d ing</w>': 1, 'e speci ally</w>': 1, 'h el p </w>': 1, 'develop ing</w>': 1, 'l on g</w>': 1, 'r ang e</w>': 1, 'm an ag e ment</w>': 1, 'me an t</w>': 1, 'en d ing</w>': 1}\n",
            "383\n"
          ],
          "name": "stdout"
        }
      ]
    },
    {
      "cell_type": "code",
      "metadata": {
        "colab": {
          "base_uri": "https://localhost:8080/"
        },
        "id": "ZOGoiUTbjxxc",
        "outputId": "fdde6d06-ee79-4915-ec92-9b047f36a699"
      },
      "source": [
        "pairs = get_stats(vocab)\n",
        "print(pairs)"
      ],
      "execution_count": 15,
      "outputs": [
        {
          "output_type": "stream",
          "text": [
            "defaultdict(<class 'int'>, {('mo', 'ist</w>'): 1, ('se', 'mi'): 1, ('mi', 'de'): 1, ('de', 'ci'): 1, ('ci', 'du'): 1, ('du', 'ous</w>'): 1, ('di', 'stri'): 1, ('stri', 'bu'): 1, ('bu', 'ted</w>'): 1, ('ac', 'ro'): 1, ('ro', 'ss</w>'): 1, ('se', 'a</w>'): 1, ('res', 'ear'): 1, ('ear', 'ch</w>'): 1, ('con', 'duc'): 1, ('duc', 'ted</w>'): 1, ('t', 'e'): 1, ('e', 'mp'): 1, ('mp', 'er'): 1, ('er', 'a'): 1, ('a', 'ture</w>'): 1, ('reco', 'rd</w>'): 1, ('d', 'ating</w>'): 1, ('b', 'ack</w>'): 1, ('se', 'ver'): 1, ('ver', 'al</w>'): 1, ('de', 'mo'): 1, ('mo', 'gra'): 1, ('gra', 'p'): 1, ('p', 'h'): 1, ('h', 'ic</w>'): 1, ('se', 't'): 1, ('t', 'ting</w>'): 1, ('oc', 'cu'): 1, ('cu', 'r'): 1, ('r', 're'): 1, ('re', 'd</w>'): 1, ('hi', 'gh'): 1, ('gh', 'er</w>'): 1, ('p', 'op'): 1, ('op', 'ulation</w>'): 1, ('l', 'ack</w>'): 1, ('depen', 'd'): 1, ('d', 'able</w>'): 1, ('su', 'r'): 1, ('r', 've'): 1, ('ve', 'y</w>'): 1, ('in', 'form'): 1, ('form', 'ation</w>'): 1, ('un', 'b'): 1, ('b', 'ro'): 1, ('ro', 'k'): 1, ('k', 'en</w>'): 1, ('an', 'd'): 1, ('d', 'or</w>'): 1, ('re', 'l'): 1, ('l', 'ation</w>'): 1, ('in', 'd'): 1, ('d', 'ic'): 1, ('ic', 'at'): 1, ('at', 'or</w>'): 1, ('diff', 'ic'): 1, ('ic', 'ul'): 1, ('ul', 't</w>'): 1, ('as', 'c'): 1, ('c', 'er'): 1, ('er', 'tain'): 1, ('tain', '</w>'): 1, ('h', 'en'): 1, ('en', 'ce</w>'): 1, ('a', 'mo'): 1, ('mo', 'un'): 1, ('un', 't</w>'): 1, ('k', 'no'): 2, ('no', 'w'): 2, ('w', 'n</w>'): 2, ('tropic', 'st'): 1, ('st', 'h'): 1, ('h', 'e</w>'): 1, ('t', 'er'): 2, ('er', 'm</w>'): 2, ('re', 'f'): 1, ('f', 'er'): 1, ('er', 's</w>'): 2, ('comp', 'le'): 1, ('le', 'te</w>'): 1, ('o', 'b'): 2, ('b', 'struction</w>'): 1, ('c', 'an'): 1, ('an', 'op'): 1, ('op', 'y</w>'): 1, ('pl', 'an'): 1, ('an', 't'): 1, ('t', 'ation</w>'): 2, ('c', 'at'): 1, ('at', 't'): 1, ('t', 'l'): 1, ('l', 'er'): 1, ('er', 'an'): 1, ('an', 'ch'): 1, ('ch', 'ing</w>'): 1, ('n', 'on'): 1, ('on', 'forest</w>'): 1, ('fi', 'el'): 1, ('el', 'd</w>'): 1, ('ex', 'a'): 1, ('a', 'mp'): 1, ('mp', 'le</w>'): 1, ('di', 's'): 1, ('s', 'int'): 1, ('int', 'e'): 1, ('e', 'g'): 2, ('g', 'r'): 1, ('r', 'ation</w>'): 1, ('chang', 'ing</w>'): 1, ('sp', 'ati'): 1, ('ati', 'al</w>'): 1, ('con', 'tin'): 2, ('tin', 'u'): 2, ('u', 'ity</w>'): 1, ('cre', 'ating</w>'): 1, ('mo', 'sa'): 1, ('sa', 'ic</w>'): 1, ('b', 'lo'): 1, ('lo', 'c'): 1, ('c', 'k</w>'): 1, ('d', 're'): 1, ('re', 'ad'): 1, ('ad', 'f'): 1, ('f', 'ul'): 1, ('ul', '</w>'): 1, ('con', 'di'): 1, ('di', 'tion</w>'): 1, ('s', 'el'): 2, ('el', 'ec'): 2, ('ec', 'ti'): 2, ('ti', 've</w>'): 2, ('lo', 'g'): 2, ('g', 'g'): 2, ('g', 'ing</w>'): 2, ('woo', 'd'): 1, ('d', 'y</w>'): 1, ('speci', 'e</w>'): 2, ('pro', 'f'): 1, ('f', 'it'): 1, ('it', 'able</w>'): 1, ('p', 'u'): 1, ('u', 'r'): 2, ('r', 'p'): 1, ('p', 'o'): 2, ('o', 'se</w>'): 1, ('af', 'f'): 1, ('f', 'ect</w>'): 1, ('su', 'b'): 2, ('b', 'f'): 1, ('f', 'lo'): 1, ('lo', 'or</w>'): 1, ('bi', 'o'): 1, ('o', 'di'): 1, ('di', 'ver'): 1, ('ver', 's'): 1, ('s', 'ity</w>'): 2, ('g', 'ener'): 2, ('ener', 'al</w>'): 1, ('me', 'an'): 2, ('an', 'ing</w>'): 1, ('l', 'in'): 1, ('in', 'k'): 1, ('k', 'ed</w>'): 1, ('v', 'al'): 1, ('al', 'u'): 1, ('u', 'e</w>'): 2, ('s', 'y'): 1, ('y', 'st'): 1, ('st', 'e'): 2, ('e', 'm</w>'): 1, ('me', 'as'): 2, ('as', 'u'): 2, ('u', 're'): 1, ('re', 'ment</w>'): 1, ('de', 'si'): 1, ('si', 'gn'): 2, ('gn', 'ed</w>'): 1, ('as', 's</w>'): 1, ('th', 'u'): 1, ('u', 's</w>'): 1, ('int', 'er'): 1, ('er', 'p'): 1, ('p', 're'): 1, ('re', 't'): 1, ('ca', 'use</w>'): 2, ('no', 'ti'): 2, ('ti', 'ce'): 2, ('ce', 'able</w>'): 1, ('e', 's'): 2, ('s', 'tim'): 2, ('tim', 'ate</w>'): 2, ('c', 'le'): 1, ('le', 'are'): 1, ('are', 'd'): 1, ('d', 'one</w>'): 1, ('re', 'as'): 1, ('as', 'on</w>'): 1, ('dep', 'le'): 1, ('le', 'tion</w>'): 1, ('gro', 'w</w>'): 1, ('c', 'as'): 2, ('as', 'h'): 2, ('h', '</w>'): 2, ('c', 'rop'): 2, ('rop', '</w>'): 2, ('depen', 'd</w>'): 1, ('exp', 'or'): 1, ('or', 't</w>'): 1, ('li', 'k'): 1, ('k', 'e</w>'): 1, ('gu', 'm</w>'): 1, ('co', 'p'): 1, ('p', 'al</w>'): 1, ('ru', 'b'): 1, ('b', 'ber</w>'): 1, ('col', 'a</w>'): 1, ('nu', 't</w>'): 1, ('p', 'al'): 1, ('al', 'm</w>'): 1, ('oi', 'l</w>'): 2, ('provi', 'de</w>'): 1, ('ra', 'ther</w>'): 1, ('e', 'ad'): 1, ('ad', 'y</w>'): 1, ('in', 'co'): 1, ('co', 'me</w>'): 2, ('re', 'v'): 1, ('v', 'en'): 2, ('en', 'u'): 1, ('sp', 'oi'): 1, ('en', 'ti'): 1, ('ti', 're</w>'): 1, ('h', 'ab'): 1, ('ab', 'it'): 1, ('it', 'a'): 1, ('a', 't</w>'): 2, ('con', 'ver'): 1, ('ver', 'ting</w>'): 1, ('an', 'o'): 2, ('o', 'ther</w>'): 2, ('de', 'ca'): 2, ('ca', 'de</w>'): 2, ('p', 'ri'): 2, ('ri', 'mary</w>'): 2, ('co', 'm'): 2, ('m', 'mer'): 2, ('mer', 'ci'): 2, ('ci', 'al</w>'): 2, ('r', 'ban'): 1, ('ban', 'ized</w>'): 1, ('gre', 'a'): 1, ('p', 'er'): 2, ('er', 'cent'): 1, ('cent', 'ag'): 1, ('ag', 'e</w>'): 1, ('in', 'cre'): 2, ('cre', 'as'): 2, ('as', 'ed</w>'): 2, ('gre', 'at'): 2, ('at', 'ly</w>'): 1, ('si', 'm'): 1, ('m', 'ul'): 1, ('ul', 't'): 1, ('t', 'an'): 1, ('an', 'e'): 1, ('e', 'o'): 1, ('o', 'us'): 1, ('us', 'ly</w>'): 1, ('p', 'res'): 2, ('res', 'erv'): 1, ('erv', 'ation</w>'): 1, ('u', 're</w>'): 1, ('re', 'in'): 1, ('in', 'for'): 1, ('for', 'c'): 1, ('c', 'ed</w>'): 1, ('prot', 'ect</w>'): 1, ('a', 'mer'): 1, ('mer', 'ic'): 1, ('ic', 'an</w>'): 1, ('grow', 'ing</w>'): 1, ('en', 'vi'): 2, ('vi', 'ron'): 2, ('ron', 'm'): 1, ('m', 'ent'): 1, ('ent', 'al</w>'): 1, ('prot', 'ec'): 2, ('ec', 'tion</w>'): 1, ('in', 'du'): 2, ('du', 'stri'): 1, ('stri', 'al'): 1, ('al', 'ized</w>'): 1, ('re', 'qu'): 1, ('qu', 'est</w>'): 1, ('har', 'd'): 2, ('d', 'wood</w>'): 1, ('b', 'e'): 1, ('e', 'co'): 1, ('st', 'ron'): 1, ('ron', 'g</w>'): 1, ('fi', 'r'): 2, ('r', 'st</w>'): 2, ('h', 'al'): 2, ('al', 'f'): 1, ('f', '</w>'): 2, ('an', 'nu'): 2, ('nu', 'al</w>'): 2, ('no', 'te</w>'): 1, ('al', 'on'): 1, ('on', 'g</w>'): 2, ('g', 'ul'): 1, ('ul', 'f'): 1, ('guine', 'a</w>'): 2, ('fi', 'gu'): 1, ('gu', 're</w>'): 1, ('e', 'qu'): 1, ('qu', 'iv'): 1, ('iv', 'al'): 1, ('al', 'ent</w>'): 1, ('p', 'er</w>'): 1, ('remain', 'ing</w>'): 2, ('t', 'r'): 1, ('r', 'an'): 1, ('an', 's'): 1, ('s', 'form'): 1, ('form', 'ed</w>'): 1, ('f', 'al'): 1, ('al', 'lo'): 1, ('lo', 'w</w>'): 1, ('ad', 'di'): 1, ('di', 'ti'): 1, ('ti', 'on'): 1, ('on', 'al</w>'): 1, ('op', 'en'): 1, ('en', 'ed</w>'): 1, ('exploit', 'ati'): 1, ('ati', 'on'): 2, ('on', 'tropical</w>'): 1, ('b', 'ec'): 2, ('ec', 'a'): 2, ('a', 'me</w>'): 2, ('vi', 'able</w>'): 1, ('ch', 'o'): 1, ('o', 'ic'): 1, ('ic', 'e</w>'): 1, ('fo', 'l'): 1, ('l', 'lo'): 1, ('lo', 'w'): 1, ('w', 'ing</w>'): 1, ('w', 'ar'): 2, ('ar', '</w>'): 2, ('i', 'i'): 2, ('i', '</w>'): 2, ('t', 'ra'): 2, ('ra', 'de</w>'): 1, ('e', 'ast</w>'): 2, ('st', 'op'): 1, ('op', '</w>'): 1, ('ce', 'ab'): 1, ('ab', 'ly</w>'): 1, ('sp', 'ar'): 1, ('ar', 'se</w>'): 1, ('w', 'e'): 1, ('e', 'st'): 1, ('st', 'er'): 1, ('er', 'n</w>'): 2, ('s', 'ou'): 1, ('ou', 'th'): 1, ('th', 'er'): 2, ('europ', 'e</w>'): 1, ('de', 'sp'): 1, ('sp', 'i'): 1, ('i', 'te</w>'): 1, ('e', 'f'): 1, ('f', 'for'): 1, ('for', 't</w>'): 1, ('pro', 'mo'): 1, ('mo', 'te</w>'): 1, ('le', 's'): 1, ('s', 's'): 1, ('s', 'er</w>'): 1, ('mar', 'k'): 1, ('k', 'e'): 1, ('e', 't</w>'): 2, ('u', 'ed</w>'): 1, ('fo', 'cu'): 1, ('cu', 's</w>'): 1, ('p', 'ar'): 1, ('ar', 't</w>'): 1, ('us', 'able</w>'): 1, ('b', 'tain'): 1, ('tain', 'able</w>'): 1, ('p', 'r'): 1, ('r', 'one</w>'): 1, ('har', 've'): 1, ('ve', 's'): 1, ('s', 'ting</w>'): 1, ('p', 'ra'): 1, ('ra', 'c'): 1, ('c', 'ti'): 1, ('ti', 'ce</w>'): 1, ('conserv', 'ati'): 1, ('on', 'ist</w>'): 1, ('b', 'la'): 1, ('la', 'm'): 1, ('m', 'ed</w>'): 1, ('du', 'st'): 1, ('st', 'ry</w>'): 1, ('f', 'ar'): 1, ('ar', 'm'): 1, ('m', 'er</w>'): 1, ('f', 'el'): 2, ('el', 'l'): 1, ('l', 'ing</w>'): 1, ('o', 'th'): 1, ('belie', 've</w>'): 1, ('de', 'struction</w>'): 2, ('con', 'n'): 1, ('n', 'ec'): 1, ('ec', 'ted</w>'): 2, ('pro', 'b'): 1, ('b', 'le'): 1, ('le', 'm</w>'): 1, ('con', 't'): 2, ('t', 'ri'): 1, ('ri', 'bu'): 1, ('bu', 'tion</w>'): 1, ('st', 'oc'): 1, ('oc', 'k</w>'): 1, ('de', 'cl'): 1, ('cl', 'ine</w>'): 1, ('belie', 'v'): 2, ('v', 'ed</w>'): 2, ('gn', 'i'): 1, ('i', 'f'): 1, ('f', 'ic'): 1, ('ic', 'an'): 1, ('an', 't</w>'): 2, ('ener', 'ally</w>'): 1, ('fi', 're'): 2, ('re', 'wood</w>'): 2, ('provi', 'de'): 2, ('de', 's</w>'): 1, ('ener', 'g'): 1, ('g', 'y</w>'): 1, ('us', 'ed</w>'): 1, ('b', 'sa'): 1, ('sa', 'har'): 1, ('har', 'a</w>'): 1, ('hi', 'gh</w>'): 1, ('de', 'm'): 2, ('m', 'and</w>'): 2, ('ex', 'ce'): 1, ('ce', 'e'): 1, ('e', 'd'): 1, ('d', 's</w>'): 1, ('re', 'n'): 2, ('n', 'e'): 1, ('e', 'w'): 1, ('w', 'al</w>'): 1, ('co', 'ver'): 2, ('ver', 'african</w>'): 1, ('p', 'y'): 1, ('y', 'g'): 1, ('g', 'm'): 1, ('m', 'y</w>'): 1, ('li', 'v'): 1, ('v', 'ing</w>'): 1, ('d', 'z'): 1, ('z', 'ang'): 1, ('ang', 'as'): 1, ('as', 'an'): 1, ('an', 'gh'): 1, ('gh', 'a</w>'): 1, ('speci', 'al</w>'): 1, ('res', 'er'): 1, ('er', 've'): 1, ('ve', 'th'): 1, ('th', 'e</w>'): 2, ('remain', '</w>'): 1, ('me', 're'): 1, ('re', 'ly</w>'): 1, ('d', 'ly</w>'): 1, ('li', 'b'): 2, ('b', 'eria</w>'): 2, ('iv', 'o'): 1, ('o', 'ry</w>'): 1, ('co', 'ast</w>'): 1, ('al', 'mo'): 1, ('mo', 'st</w>'): 1, ('le', 'f'): 1, ('f', 't</w>'): 1, ('un', 's'): 1, ('s', 'ca'): 1, ('ca', 'th'): 1, ('th', 'ed</w>'): 1, ('gh', 'an'): 1, ('an', 'a</w>'): 1, ('s', 'it'): 1, ('it', 'u'): 1, ('u', 'ation</w>'): 1, ('m', 'u'): 1, ('u', 'ch</w>'): 1, ('wor', 'se</w>'): 1, ('n', 'ear'): 1, ('ear', 'ly</w>'): 1, ('cu', 't</w>'): 1, ('guine', 'ab'): 1, ('ab', 'i'): 1, ('i', 's'): 2, ('s', 'sa'): 1, ('sa', 'u'): 1, ('u', '</w>'): 1, ('lo', 'se'): 1, ('se', 's</w>'): 1, ('year', 'ly</w>'): 1, ('s', 'en'): 1, ('en', 'e'): 1, ('g', 'al</w>'): 1, ('woo', 'de'): 1, ('de', 'd</w>'): 2, ('sa', 'v'): 1, ('v', 'an'): 1, ('an', 'n'): 1, ('n', 'a</w>'): 1, ('n', 'i'): 1, ('i', 'g'): 1, ('g', 'eria</w>'): 1, ('explo', 'i'): 1, ('i', 't</w>'): 1, ('ex', 't'): 1, ('ra', 'p'): 1, ('o', 'la'): 1, ('la', 'ting</w>'): 1, ('res', 'ent</w>'): 1, ('b', 'ot'): 1, ('ot', 'an'): 1, ('an', 'ist</w>'): 1, ('p', 'e'): 2, ('e', 't'): 1, ('t', 'er</w>'): 1, ('ra', 'v'): 1, ('v', 'en</w>'): 1, ('p', 'ic'): 1, ('ic', 'ture</w>'): 1, ('ma', 'j'): 2, ('j', 'or'): 1, ('or', 'ity</w>'): 1, ('mo', 'd'): 1, ('d', 'er'): 1, ('er', 'ate</w>'): 1, ('s', 'm'): 1, ('m', 'al'): 1, ('al', 'l'): 2, ('l', 'er</w>'): 1, ('co', 'ul'): 1, ('ul', 'd</w>'): 1, ('ru', 'in'): 1, ('in', 'ed</w>'): 1, ('for', 'ty</w>'): 1, ('ver', 'ing</w>'): 1, ('cent', 'ral</w>'): 2, ('f', 'ac'): 1, ('ac', 'ing</w>'): 1, ('var', 'i'): 1, ('i', 'ous</w>'): 1, ('de', 'g'): 1, ('g', 'ree</w>'): 1, ('int', 'en'): 2, ('en', 's'): 1, ('th', 'ro'): 1, ('ro', 'u'): 1, ('u', 'gh'): 1, ('gh', 'ou'): 1, ('ou', 't</w>'): 1, ('re', 'cent</w>'): 2, ('ac', 'tu'): 1, ('tu', 'al</w>'): 1, ('varie', 's</w>'): 1, ('ac', 'cu'): 1, ('cu', 'rate</w>'): 1, ('ex', 'ist</w>'): 1, ('y', 'e'): 1, ('sh', 'o'): 2, ('o', 'w</w>'): 1, ('p', 'ac'): 1, ('ac', 'e</w>'): 2, ('var', 'y</w>'): 1, ('g', 'ab'): 1, ('ab', 'on</w>'): 1, ('co', 'te</w>'): 1, ('di', 'v'): 1, ('v', 'oi'): 1, ('oi', 're</w>'): 1, ('sti', 'l'): 1, ('l', 'l</w>'): 2, ('j', 'or</w>'): 1, ('ab', 'ri'): 1, ('ri', 'd'): 1, ('d', 'g'): 1, ('g', 'ed</w>'): 1, ('p', 'at'): 1, ('at', 'ch</w>'): 1, ('afric', 'a'): 1, ('a', 'th'): 1, ('or', 'g'): 2, ('g', 'an'): 2, ('an', 'iz'): 2, ('iz', 'ation</w>'): 2, ('me', 'm'): 1, ('m', 'ber</w>'): 1, ('at', 'o</w>'): 1, ('e', 'v'): 1, ('en', 'tu'): 1, ('tu', 'ally</w>'): 1, ('reco', 'gn'): 2, ('gn', 'ized</w>'): 2, ('co', 'op'): 2, ('op', 'er'): 2, ('er', 'ation</w>'): 2, ('ru', 'ral</w>'): 1, ('e', 'op'): 1, ('op', 'le</w>'): 1, ('ron', 'ment</w>'): 1, ('cu', 'st'): 1, ('st', 'o'): 1, ('o', 'mary</w>'): 1, ('la', 'w</w>'): 2, ('g', 'i'): 1, ('i', 've</w>'): 1, ('res', 'i'): 1, ('i', 'd'): 1, ('d', 'ent</w>'): 1, ('ri', 'gh'): 2, ('gh', 't</w>'): 2, ('el', 'l</w>'): 1, ('con', 'struction</w>'): 1, ('col', 'l'): 1, ('l', 'ect</w>'): 1, ('h', 'un'): 1, ('un', 'ting</w>'): 1, ('fi', 'sh'): 1, ('sh', 'ing</w>'): 1, ('gra', 'z'): 1, ('z', 'ing</w>'): 1, ('cl', 'ear'): 2, ('ear', 'ing</w>'): 2, ('ma', 'int'): 1, ('en', 'an'): 1, ('an', 'ce</w>'): 2, ('c', 'al'): 1, ('l', 'ed</w>'): 2, ('un', 'con'): 1, ('t', 'ro'): 1, ('ro', 'l'): 1, ('l', 'l'): 1, ('un', 'a'): 1, ('a', 'u'): 1, ('u', 'th'): 1, ('th', 'o'): 1, ('o', 'ri'): 1, ('ri', 'z'): 1, ('z', 'ed</w>'): 1, ('for', 'bi'): 1, ('bi', 'd'): 1, ('d', 'd'): 1, ('d', 'en</w>'): 1, ('exploit', 'ation</w>'): 2, ('dep', 'ar'): 1, ('ar', 't'): 1, ('t', 'ment</w>'): 1, ('ma', 'k'): 1, ('k', 'ing</w>'): 1, ('comp', 'ar'): 1, ('ar', 'i'): 1, ('s', 'on</w>'): 1, ('pl', 'ac'): 1, ('o', 'w'): 1, ('w', 'ed</w>'): 1, ('at', 'est</w>'): 1, ('in', 'f'): 1, ('f', 'r'): 1, ('r', 'in'): 1, ('in', 'g'): 1, ('g', 'e'): 1, ('e', 'ment</w>'): 2, ('th', 'ou'): 1, ('ou', 'gh</w>'): 2, ('v', 'o'): 1, ('o', 'l'): 1, ('l', 'u'): 1, ('u', 'me</w>'): 1, ('produc', 'tion</w>'): 1, ('ac', 'count'): 1, ('count', 'ed</w>'): 1, ('th', 'i'): 1, ('i', 'rd</w>'): 1, ('comp', 'are'): 1, ('are', 'd</w>'): 1, ('as', 'ia</w>'): 1, ('diff', 'e'): 1, ('e', 're'): 1, ('n', 'ce</w>'): 1, ('du', 'e</w>'): 1, ('speci', 'f'): 1, ('f', 'ic</w>'): 1, ('europe', 'forestry</w>'): 1, ('reg', 'ulation</w>'): 2, ('a', 'p'): 1, ('p', 'p'): 1, ('p', 'li'): 1, ('li', 'ed</w>'): 1, ('col', 'on'): 1, ('on', 'i'): 1, ('i', 'al</w>'): 1, ('g', 'o'): 1, ('o', 'ver'): 1, ('ver', 'n'): 1, ('n', 'ment</w>'): 1, ('st', 'ric'): 1, ('ric', 't</w>'): 1, ('en', 'ou'): 1, ('fi', 'l'): 1, ('w', 'as'): 1, ('as', 'n'): 1, ('n', 't</w>'): 1, ('in', 'a'): 1, ('a', 'de'): 1, ('de', 'qu'): 1, ('qu', 'ate</w>'): 1, ('er', 'form'): 1, ('form', 'an'): 1, ('ac', 'tion</w>'): 1, ('pl', 'an</w>'): 1, ('con', 'ce'): 1, ('ce', 'iv'): 1, ('iv', 'ed</w>'): 1, ('res', 'ou'): 1, ('ou', 'r'): 1, ('r', 'ce</w>'): 1, ('fo', 'o'): 1, ('o', 'd</w>'): 1, ('un', 'it'): 1, ('it', 'ed</w>'): 1, ('n', 'ation</w>'): 1, ('pro', 'gra'): 2, ('gra', 'm</w>'): 2, ('un', 'd'): 1, ('d', 'p'): 1, ('p', '</w>'): 2, ('ban', 'k</w>'): 2, ('h', 'op'): 1, ('op', 'e</w>'): 1, ('al', 'ting</w>'): 1, ('bi', 'd</w>'): 1, ('st', 'res'): 1, ('res', 's</w>'): 1, ('bu', 'i'): 1, ('i', 'l'): 1, ('l', 'd'): 1, ('d', 'ing</w>'): 2, ('e', 'speci'): 1, ('speci', 'ally</w>'): 1, ('h', 'el'): 1, ('el', 'p'): 1, ('develop', 'ing</w>'): 1, ('l', 'on'): 1, ('r', 'ang'): 1, ('ang', 'e</w>'): 1, ('m', 'an'): 1, ('an', 'ag'): 1, ('ag', 'e'): 1, ('en', 'd'): 1})\n"
          ],
          "name": "stdout"
        }
      ]
    },
    {
      "cell_type": "code",
      "metadata": {
        "colab": {
          "base_uri": "https://localhost:8080/"
        },
        "id": "BuIP2_MdkTKN",
        "outputId": "9704e259-5a47-40a3-fed5-fbcad022d1ca"
      },
      "source": [
        "best = max(pairs, key=pairs.get)\n",
        "print(best)\n",
        "print(pairs[best])"
      ],
      "execution_count": 16,
      "outputs": [
        {
          "output_type": "stream",
          "text": [
            "('k', 'no')\n",
            "2\n"
          ],
          "name": "stdout"
        }
      ]
    }
  ]
}