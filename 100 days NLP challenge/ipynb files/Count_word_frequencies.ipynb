{
  "nbformat": 4,
  "nbformat_minor": 0,
  "metadata": {
    "colab": {
      "name": "Count_word_frequencies.ipynb",
      "provenance": []
    },
    "kernelspec": {
      "name": "python3",
      "display_name": "Python 3"
    }
  },
  "cells": [
    {
      "cell_type": "code",
      "metadata": {
        "id": "IrXU5VdtngHw"
      },
      "source": [
        "# Import libraries\n",
        "import re\n",
        "import string\n",
        "import pandas as pd"
      ],
      "execution_count": 1,
      "outputs": []
    },
    {
      "cell_type": "code",
      "metadata": {
        "colab": {
          "base_uri": "https://localhost:8080/",
          "height": 86
        },
        "id": "XsL9mOPMlEbi",
        "outputId": "4bdf479e-4a7b-4472-d29d-0d12f5807337"
      },
      "source": [
        "string = \"As I was waiting, a man came out of a5 7 a side room, and at a glance I was sure he must be Long John. His left leg was cut off close by the hip, and under the left shoulder he carried a crutch, which he managed with wonderful dexterity, hopping about upon it like a bird. He was very tall and strong, with a face as big as a ham—plain and pale, but intelligent and smiling. Indeed, he seemed in the most cheerful spirits, whistling as he moved about among the tables, with a merry word or a slap on the shoulder for the more favoured of his guests.\"\n",
        "string"
      ],
      "execution_count": 2,
      "outputs": [
        {
          "output_type": "execute_result",
          "data": {
            "application/vnd.google.colaboratory.intrinsic+json": {
              "type": "string"
            },
            "text/plain": [
              "'As I was waiting, a man came out of a5 7 a side room, and at a glance I was sure he must be Long John. His left leg was cut off close by the hip, and under the left shoulder he carried a crutch, which he managed with wonderful dexterity, hopping about upon it like a bird. He was very tall and strong, with a face as big as a ham—plain and pale, but intelligent and smiling. Indeed, he seemed in the most cheerful spirits, whistling as he moved about among the tables, with a merry word or a slap on the shoulder for the more favoured of his guests.'"
            ]
          },
          "metadata": {
            "tags": []
          },
          "execution_count": 2
        }
      ]
    },
    {
      "cell_type": "code",
      "metadata": {
        "id": "RcgSWx-klWFk"
      },
      "source": [
        "def count_words(text):\n",
        "    \"\"\"Count how many times each unique word occurs in text.\"\"\"\n",
        "    counts = dict()  # dictionary of { <word>: <count> } pairs to return\n",
        "    \n",
        "    # Convert to lowercase\n",
        "    text = text.lower()\n",
        "    \n",
        "    # Split text into tokens (words), leaving out punctuation\n",
        "    pattern = r'[^A-Za-z0-9]'\n",
        "    text = re.split(pattern, text)\n",
        "    text = [i for i in text if i != '']\n",
        "    # Aggregate word counts using a dictionary\n",
        "    for element in text:\n",
        "      counts[element] = text.count(element)\n",
        "    return counts"
      ],
      "execution_count": 3,
      "outputs": []
    },
    {
      "cell_type": "code",
      "metadata": {
        "colab": {
          "base_uri": "https://localhost:8080/"
        },
        "id": "-0H3UTSXlc9W",
        "outputId": "7c08565e-bbdb-4e47-8855-f623627bad4e"
      },
      "source": [
        "# Get word frequencies of the string\n",
        "print(count_words(string))"
      ],
      "execution_count": 4,
      "outputs": [
        {
          "output_type": "stream",
          "text": [
            "{'as': 4, 'i': 2, 'was': 4, 'waiting': 1, 'a': 9, 'man': 1, 'came': 1, 'out': 1, 'of': 2, 'a5': 1, '7': 1, 'side': 1, 'room': 1, 'and': 5, 'at': 1, 'glance': 1, 'sure': 1, 'he': 6, 'must': 1, 'be': 1, 'long': 1, 'john': 1, 'his': 2, 'left': 2, 'leg': 1, 'cut': 1, 'off': 1, 'close': 1, 'by': 1, 'the': 6, 'hip': 1, 'under': 1, 'shoulder': 2, 'carried': 1, 'crutch': 1, 'which': 1, 'managed': 1, 'with': 3, 'wonderful': 1, 'dexterity': 1, 'hopping': 1, 'about': 2, 'upon': 1, 'it': 1, 'like': 1, 'bird': 1, 'very': 1, 'tall': 1, 'strong': 1, 'face': 1, 'big': 1, 'ham': 1, 'plain': 1, 'pale': 1, 'but': 1, 'intelligent': 1, 'smiling': 1, 'indeed': 1, 'seemed': 1, 'in': 1, 'most': 1, 'cheerful': 1, 'spirits': 1, 'whistling': 1, 'moved': 1, 'among': 1, 'tables': 1, 'merry': 1, 'word': 1, 'or': 1, 'slap': 1, 'on': 1, 'for': 1, 'more': 1, 'favoured': 1, 'guests': 1}\n"
          ],
          "name": "stdout"
        }
      ]
    },
    {
      "cell_type": "code",
      "metadata": {
        "colab": {
          "base_uri": "https://localhost:8080/"
        },
        "id": "JG8GVCHqqlQE",
        "outputId": "32852131-4a68-483b-878e-1d193cf5d60c"
      },
      "source": [
        "frequencies = count_words(string)\n",
        "frequencies.items()"
      ],
      "execution_count": 7,
      "outputs": [
        {
          "output_type": "execute_result",
          "data": {
            "text/plain": [
              "dict_items([('as', 4), ('i', 2), ('was', 4), ('waiting', 1), ('a', 9), ('man', 1), ('came', 1), ('out', 1), ('of', 2), ('a5', 1), ('7', 1), ('side', 1), ('room', 1), ('and', 5), ('at', 1), ('glance', 1), ('sure', 1), ('he', 6), ('must', 1), ('be', 1), ('long', 1), ('john', 1), ('his', 2), ('left', 2), ('leg', 1), ('cut', 1), ('off', 1), ('close', 1), ('by', 1), ('the', 6), ('hip', 1), ('under', 1), ('shoulder', 2), ('carried', 1), ('crutch', 1), ('which', 1), ('managed', 1), ('with', 3), ('wonderful', 1), ('dexterity', 1), ('hopping', 1), ('about', 2), ('upon', 1), ('it', 1), ('like', 1), ('bird', 1), ('very', 1), ('tall', 1), ('strong', 1), ('face', 1), ('big', 1), ('ham', 1), ('plain', 1), ('pale', 1), ('but', 1), ('intelligent', 1), ('smiling', 1), ('indeed', 1), ('seemed', 1), ('in', 1), ('most', 1), ('cheerful', 1), ('spirits', 1), ('whistling', 1), ('moved', 1), ('among', 1), ('tables', 1), ('merry', 1), ('word', 1), ('or', 1), ('slap', 1), ('on', 1), ('for', 1), ('more', 1), ('favoured', 1), ('guests', 1)])"
            ]
          },
          "metadata": {
            "tags": []
          },
          "execution_count": 7
        }
      ]
    },
    {
      "cell_type": "code",
      "metadata": {
        "colab": {
          "base_uri": "https://localhost:8080/"
        },
        "id": "Ohu6OSq2rW-y",
        "outputId": "7fb7b069-7cf9-4a5c-cec6-5172a8af5253"
      },
      "source": [
        "def test_run():\n",
        "    counts = count_words(string)\n",
        "    sorted_counts = sorted(counts.items(), key=lambda pair: pair[1], reverse=True)\n",
        "        \n",
        "    print(\"10 most common words:\\nWord\\tCount\")\n",
        "    for word, count in sorted_counts[:10]:\n",
        "        print(\"{}\\t{}\".format(word, count))\n",
        "        \n",
        "    print(\"\\n10 least common words:\\nWord\\tCount\")\n",
        "    for word, count in sorted_counts[-10:]:\n",
        "        print(\"{}\\t{}\".format(word, count))\n",
        "\n",
        "\n",
        "if __name__ == \"__main__\":\n",
        "    test_run()"
      ],
      "execution_count": 9,
      "outputs": [
        {
          "output_type": "stream",
          "text": [
            "10 most common words:\n",
            "Word\tCount\n",
            "a\t9\n",
            "he\t6\n",
            "the\t6\n",
            "and\t5\n",
            "as\t4\n",
            "was\t4\n",
            "with\t3\n",
            "i\t2\n",
            "of\t2\n",
            "his\t2\n",
            "\n",
            "10 least common words:\n",
            "Word\tCount\n",
            "tables\t1\n",
            "merry\t1\n",
            "word\t1\n",
            "or\t1\n",
            "slap\t1\n",
            "on\t1\n",
            "for\t1\n",
            "more\t1\n",
            "favoured\t1\n",
            "guests\t1\n"
          ],
          "name": "stdout"
        }
      ]
    }
  ]
}