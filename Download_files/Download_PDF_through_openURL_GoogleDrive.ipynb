{
  "nbformat": 4,
  "nbformat_minor": 0,
  "metadata": {
    "colab": {
      "name": "Download_PDF_through_openURL_GoogleDrive.ipynb",
      "provenance": []
    },
    "kernelspec": {
      "name": "python3",
      "display_name": "Python 3"
    }
  },
  "cells": [
    {
      "cell_type": "code",
      "metadata": {
        "id": "DAR0r72KbrWt",
        "outputId": "fa667bbd-d64d-4b14-8d54-e60a24b2b0a2",
        "colab": {
          "base_uri": "https://localhost:8080/"
        }
      },
      "source": [
        "from google.colab import drive\n",
        "drive.mount(\"/content/gdrive\")"
      ],
      "execution_count": 1,
      "outputs": [
        {
          "output_type": "stream",
          "text": [
            "Mounted at /content/gdrive\n"
          ],
          "name": "stdout"
        }
      ]
    },
    {
      "cell_type": "code",
      "metadata": {
        "id": "qJKdcom9fNCp",
        "outputId": "7f3bce6e-8087-484d-e8be-92d9df359290",
        "colab": {
          "base_uri": "https://localhost:8080/"
        }
      },
      "source": [
        "# drive.mount(\"/content/gdrive\", force_remount=True)"
      ],
      "execution_count": null,
      "outputs": [
        {
          "output_type": "stream",
          "text": [
            "Mounted at /content/gdrive\n"
          ],
          "name": "stdout"
        }
      ]
    },
    {
      "cell_type": "code",
      "metadata": {
        "id": "xp4LFrLqdCxB"
      },
      "source": [
        "import requests\n",
        "\n",
        "file_url = ['https://www.nature.org/content/dam/tnc/nature/en/documents/Beyond_The_Source_Full_Report_FinalV4.pdf']\n",
        "count=0\n",
        "for url in file_url:\n",
        "  r = requests.get(url, stream = True)\n",
        "  count += 1\n",
        "  file_name =  \"/content/gdrive/My Drive/All_PDF/TNC_\" + str(count) + \".pdf\"\n",
        "  with open(file_name, \"wb\") as file:\n",
        "    for block in r.iter_content(chunk_size = 1024): \n",
        "      if block:\n",
        "        file.write(block)"
      ],
      "execution_count": null,
      "outputs": []
    },
    {
      "cell_type": "code",
      "metadata": {
        "id": "MBsz8XHCbEOP"
      },
      "source": [
        "# !pip install -q pdfminer.six\n",
        "# !pip install -q pdfplumber\n",
        "# !pip install -q pdfx"
      ],
      "execution_count": 2,
      "outputs": []
    },
    {
      "cell_type": "code",
      "metadata": {
        "id": "vqj5AfflbTOa"
      },
      "source": [
        "# Importing libraries\n",
        "# import pdfx\n",
        "# import pdfplumber\n",
        "# import pandas as pd\n",
        "# import string\n",
        "# import re\n",
        "# import spacy\n",
        "# import nltk"
      ],
      "execution_count": null,
      "outputs": []
    }
  ]
}