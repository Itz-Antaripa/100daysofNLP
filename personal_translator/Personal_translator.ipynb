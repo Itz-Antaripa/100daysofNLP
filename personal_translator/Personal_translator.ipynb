{
  "nbformat": 4,
  "nbformat_minor": 0,
  "metadata": {
    "colab": {
      "name": "Personal_translator.ipynb",
      "provenance": []
    },
    "kernelspec": {
      "name": "python3",
      "display_name": "Python 3"
    }
  },
  "cells": [
    {
      "cell_type": "code",
      "metadata": {
        "id": "n8hz9Pj3Hzzl"
      },
      "source": [
        "# uncomment the line to intall googletrans library\n",
        "# ! pip install googletrans"
      ],
      "execution_count": 2,
      "outputs": []
    },
    {
      "cell_type": "code",
      "metadata": {
        "id": "_lbFs3Gsbn0j"
      },
      "source": [
        "from googletrans import Translator"
      ],
      "execution_count": 3,
      "outputs": []
    },
    {
      "cell_type": "code",
      "metadata": {
        "id": "ijNAhC7HcYmx"
      },
      "source": [
        "# make a simple function that will translate any language to english\n",
        "def text_translator(Text):         \n",
        "  translator = Translator()\n",
        "  translated = translator.translate(Text, dest='en')\n",
        "  return translated.text"
      ],
      "execution_count": 4,
      "outputs": []
    },
    {
      "cell_type": "code",
      "metadata": {
        "id": "LnKrsGOHdBjB",
        "outputId": "d1376dd9-6680-4377-88ed-a898d3099969",
        "colab": {
          "base_uri": "https://localhost:8080/",
          "height": 35
        }
      },
      "source": [
        "text_translator('Cidades brasileiras integram programa de preservação de florestas')  # portuguese to english"
      ],
      "execution_count": 5,
      "outputs": [
        {
          "output_type": "execute_result",
          "data": {
            "application/vnd.google.colaboratory.intrinsic+json": {
              "type": "string"
            },
            "text/plain": [
              "'Brazilian cities integrate forest preservation program'"
            ]
          },
          "metadata": {
            "tags": []
          },
          "execution_count": 5
        }
      ]
    },
    {
      "cell_type": "code",
      "metadata": {
        "id": "BVChNyWpdMav",
        "outputId": "068101cf-1ece-4b23-80c6-010b6224383d",
        "colab": {
          "base_uri": "https://localhost:8080/",
          "height": 35
        }
      },
      "source": [
        "text_translator('Guten Morgen, wie gehts?')     # german to english"
      ],
      "execution_count": 6,
      "outputs": [
        {
          "output_type": "execute_result",
          "data": {
            "application/vnd.google.colaboratory.intrinsic+json": {
              "type": "string"
            },
            "text/plain": [
              "'Good morning how are you?'"
            ]
          },
          "metadata": {
            "tags": []
          },
          "execution_count": 6
        }
      ]
    },
    {
      "cell_type": "code",
      "metadata": {
        "id": "X9EXrGWGdsaa",
        "outputId": "34ef5bdb-f884-42cd-f613-2e6e81707fc1",
        "colab": {
          "base_uri": "https://localhost:8080/",
          "height": 35
        }
      },
      "source": [
        "text_translator('Ami tumake bhalobashi')        # bengali to english"
      ],
      "execution_count": 7,
      "outputs": [
        {
          "output_type": "execute_result",
          "data": {
            "application/vnd.google.colaboratory.intrinsic+json": {
              "type": "string"
            },
            "text/plain": [
              "'I love you'"
            ]
          },
          "metadata": {
            "tags": []
          },
          "execution_count": 7
        }
      ]
    },
    {
      "cell_type": "code",
      "metadata": {
        "id": "hJ_gUqy_eBPD",
        "outputId": "4cb1213b-fa0d-42e8-81aa-49243a788095",
        "colab": {
          "base_uri": "https://localhost:8080/",
          "height": 35
        }
      },
      "source": [
        "text_translator('ਮੈਨੂੰ ਇੱਕ ਗੱਲ ਦੱਸੋ')         # punjabi to english"
      ],
      "execution_count": 8,
      "outputs": [
        {
          "output_type": "execute_result",
          "data": {
            "application/vnd.google.colaboratory.intrinsic+json": {
              "type": "string"
            },
            "text/plain": [
              "'Tell me one thing'"
            ]
          },
          "metadata": {
            "tags": []
          },
          "execution_count": 8
        }
      ]
    },
    {
      "cell_type": "code",
      "metadata": {
        "id": "52iHakEahPzR",
        "outputId": "d58fe2d6-ad77-4e97-fee2-07a6ff06d2c7",
        "colab": {
          "base_uri": "https://localhost:8080/",
          "height": 35
        }
      },
      "source": [
        "text_translator('I am fine')            # english text remains constant"
      ],
      "execution_count": 9,
      "outputs": [
        {
          "output_type": "execute_result",
          "data": {
            "application/vnd.google.colaboratory.intrinsic+json": {
              "type": "string"
            },
            "text/plain": [
              "'I am fine'"
            ]
          },
          "metadata": {
            "tags": []
          },
          "execution_count": 9
        }
      ]
    },
    {
      "cell_type": "code",
      "metadata": {
        "id": "kmX5aX49e3T2"
      },
      "source": [
        "def eng2punj_translator(Text):                # english to punjabi translator\n",
        "  translator = Translator()\n",
        "  translated = translator.translate(Text, dest='pa')\n",
        "  return translated.text"
      ],
      "execution_count": 10,
      "outputs": []
    },
    {
      "cell_type": "code",
      "metadata": {
        "id": "OiIac6WffD3L",
        "outputId": "ce3bf065-4cd7-4afa-f60f-dccfce848a82",
        "colab": {
          "base_uri": "https://localhost:8080/",
          "height": 35
        }
      },
      "source": [
        "eng2punj_translator('Meet you soon')"
      ],
      "execution_count": 11,
      "outputs": [
        {
          "output_type": "execute_result",
          "data": {
            "application/vnd.google.colaboratory.intrinsic+json": {
              "type": "string"
            },
            "text/plain": [
              "'ਤੁਹਾਨੂੰ ਜਲਦੀ ਮਿਲਾਂਗਾ'"
            ]
          },
          "metadata": {
            "tags": []
          },
          "execution_count": 11
        }
      ]
    },
    {
      "cell_type": "code",
      "metadata": {
        "id": "uShedDl0ff_l"
      },
      "source": [
        "def eng2beng_translator(Text):               # english to bengali translator\n",
        "  translator = Translator()\n",
        "  translated = translator.translate(Text, dest='bn')\n",
        "  return translated.text"
      ],
      "execution_count": 12,
      "outputs": []
    },
    {
      "cell_type": "code",
      "metadata": {
        "id": "gbPrcFwbfnhm",
        "outputId": "ae7fcf82-cbef-46e7-e991-00bd13859667",
        "colab": {
          "base_uri": "https://localhost:8080/",
          "height": 35
        }
      },
      "source": [
        "eng2beng_translator('So happy to see you')"
      ],
      "execution_count": 13,
      "outputs": [
        {
          "output_type": "execute_result",
          "data": {
            "application/vnd.google.colaboratory.intrinsic+json": {
              "type": "string"
            },
            "text/plain": [
              "'আপনাকে দেখে খুব খুশি'"
            ]
          },
          "metadata": {
            "tags": []
          },
          "execution_count": 13
        }
      ]
    }
  ]
}